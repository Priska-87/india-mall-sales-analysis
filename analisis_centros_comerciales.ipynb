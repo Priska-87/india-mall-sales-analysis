{
 "cells": [
  {
   "cell_type": "markdown",
   "id": "e5745624",
   "metadata": {},
   "source": [
    "# Proyecto final Analítica de Datos\n",
    "## Estudiante : Priscila Kwiatkowski\n",
    "## Tecnicatura: Innovación con tecnologías\n",
    "### Cohorte : 2022"
   ]
  },
  {
   "cell_type": "markdown",
   "id": "e949658b",
   "metadata": {},
   "source": [
    "# Extracción de Datos (Extract):"
   ]
  },
  {
   "cell_type": "markdown",
   "id": "6bce6ef6",
   "metadata": {},
   "source": [
    "## 1. Cargar los datos de ventas y clientes desde el archivo CSV en dos DataFrames distintos.\n",
    "\n",
    "##### Primero se procese a importar las librerias de utilidad para este proyecto, luego se cargan los datos de los archivos CSV de ventas y clientes en los que a continuación aparece como df_clientes y df_ventas"
   ]
  },
  {
   "cell_type": "code",
   "execution_count": 1,
   "id": "8d58b0c4",
   "metadata": {},
   "outputs": [],
   "source": [
    "import pandas as pd "
   ]
  },
  {
   "cell_type": "code",
   "execution_count": 2,
   "id": "4348b4a1",
   "metadata": {},
   "outputs": [],
   "source": [
    "import matplotlib.pyplot as plt"
   ]
  },
  {
   "cell_type": "code",
   "execution_count": 3,
   "id": "a71bbcc0",
   "metadata": {},
   "outputs": [],
   "source": [
    "import numpy as np"
   ]
  },
  {
   "cell_type": "code",
   "execution_count": 4,
   "id": "e9455e98",
   "metadata": {},
   "outputs": [],
   "source": [
    "import sklearn as skl"
   ]
  },
  {
   "cell_type": "code",
   "execution_count": 5,
   "id": "783a5f4f",
   "metadata": {},
   "outputs": [],
   "source": [
    "import seaborn as sns"
   ]
  },
  {
   "cell_type": "code",
   "execution_count": 6,
   "id": "34d4a63e",
   "metadata": {},
   "outputs": [],
   "source": [
    "df_clientes = pd.read_csv(\"customer_data.csv\")"
   ]
  },
  {
   "cell_type": "code",
   "execution_count": 7,
   "id": "eccf1711",
   "metadata": {},
   "outputs": [],
   "source": [
    "df_ventas = pd.read_csv(\"sales_data.csv\")"
   ]
  },
  {
   "cell_type": "markdown",
   "id": "1f5d5305",
   "metadata": {},
   "source": [
    "## 2. Describir el proceso de extracción y cómo se acceden a los datos en los DataFrames\n",
    "##### Se extrajeron los datos mediantes los archivos CSV como se menciona más arriba y con la función pd.read_csv. Cada uno de ellos fue almacenado en dos dataFrame llamados df_clientes y df_ventas "
   ]
  },
  {
   "cell_type": "markdown",
   "id": "b2a3d8c4",
   "metadata": {},
   "source": [
    "##### Accedo a una vista general de los datos llamando a cada dataFrame --"
   ]
  },
  {
   "cell_type": "code",
   "execution_count": 8,
   "id": "40332556",
   "metadata": {},
   "outputs": [
    {
     "data": {
      "text/html": [
       "<div>\n",
       "<style scoped>\n",
       "    .dataframe tbody tr th:only-of-type {\n",
       "        vertical-align: middle;\n",
       "    }\n",
       "\n",
       "    .dataframe tbody tr th {\n",
       "        vertical-align: top;\n",
       "    }\n",
       "\n",
       "    .dataframe thead th {\n",
       "        text-align: right;\n",
       "    }\n",
       "</style>\n",
       "<table border=\"1\" class=\"dataframe\">\n",
       "  <thead>\n",
       "    <tr style=\"text-align: right;\">\n",
       "      <th></th>\n",
       "      <th>customer_id</th>\n",
       "      <th>gender</th>\n",
       "      <th>age</th>\n",
       "      <th>payment_method</th>\n",
       "    </tr>\n",
       "  </thead>\n",
       "  <tbody>\n",
       "    <tr>\n",
       "      <th>0</th>\n",
       "      <td>C241288</td>\n",
       "      <td>Female</td>\n",
       "      <td>28.0</td>\n",
       "      <td>Credit Card</td>\n",
       "    </tr>\n",
       "    <tr>\n",
       "      <th>1</th>\n",
       "      <td>C111565</td>\n",
       "      <td>Male</td>\n",
       "      <td>21.0</td>\n",
       "      <td>Debit Card</td>\n",
       "    </tr>\n",
       "    <tr>\n",
       "      <th>2</th>\n",
       "      <td>C266599</td>\n",
       "      <td>Male</td>\n",
       "      <td>20.0</td>\n",
       "      <td>Cash</td>\n",
       "    </tr>\n",
       "    <tr>\n",
       "      <th>3</th>\n",
       "      <td>C988172</td>\n",
       "      <td>Female</td>\n",
       "      <td>66.0</td>\n",
       "      <td>Credit Card</td>\n",
       "    </tr>\n",
       "    <tr>\n",
       "      <th>4</th>\n",
       "      <td>C189076</td>\n",
       "      <td>Female</td>\n",
       "      <td>53.0</td>\n",
       "      <td>Cash</td>\n",
       "    </tr>\n",
       "    <tr>\n",
       "      <th>...</th>\n",
       "      <td>...</td>\n",
       "      <td>...</td>\n",
       "      <td>...</td>\n",
       "      <td>...</td>\n",
       "    </tr>\n",
       "    <tr>\n",
       "      <th>99452</th>\n",
       "      <td>C441542</td>\n",
       "      <td>Female</td>\n",
       "      <td>45.0</td>\n",
       "      <td>Credit Card</td>\n",
       "    </tr>\n",
       "    <tr>\n",
       "      <th>99453</th>\n",
       "      <td>C569580</td>\n",
       "      <td>Male</td>\n",
       "      <td>27.0</td>\n",
       "      <td>Cash</td>\n",
       "    </tr>\n",
       "    <tr>\n",
       "      <th>99454</th>\n",
       "      <td>C103292</td>\n",
       "      <td>Male</td>\n",
       "      <td>63.0</td>\n",
       "      <td>Debit Card</td>\n",
       "    </tr>\n",
       "    <tr>\n",
       "      <th>99455</th>\n",
       "      <td>C800631</td>\n",
       "      <td>Male</td>\n",
       "      <td>56.0</td>\n",
       "      <td>Cash</td>\n",
       "    </tr>\n",
       "    <tr>\n",
       "      <th>99456</th>\n",
       "      <td>C273973</td>\n",
       "      <td>Female</td>\n",
       "      <td>36.0</td>\n",
       "      <td>Credit Card</td>\n",
       "    </tr>\n",
       "  </tbody>\n",
       "</table>\n",
       "<p>99457 rows × 4 columns</p>\n",
       "</div>"
      ],
      "text/plain": [
       "      customer_id  gender   age payment_method\n",
       "0         C241288  Female  28.0    Credit Card\n",
       "1         C111565    Male  21.0     Debit Card\n",
       "2         C266599    Male  20.0           Cash\n",
       "3         C988172  Female  66.0    Credit Card\n",
       "4         C189076  Female  53.0           Cash\n",
       "...           ...     ...   ...            ...\n",
       "99452     C441542  Female  45.0    Credit Card\n",
       "99453     C569580    Male  27.0           Cash\n",
       "99454     C103292    Male  63.0     Debit Card\n",
       "99455     C800631    Male  56.0           Cash\n",
       "99456     C273973  Female  36.0    Credit Card\n",
       "\n",
       "[99457 rows x 4 columns]"
      ]
     },
     "execution_count": 8,
     "metadata": {},
     "output_type": "execute_result"
    }
   ],
   "source": [
    "df_clientes"
   ]
  },
  {
   "cell_type": "code",
   "execution_count": 9,
   "id": "c8beb907",
   "metadata": {},
   "outputs": [
    {
     "data": {
      "text/html": [
       "<div>\n",
       "<style scoped>\n",
       "    .dataframe tbody tr th:only-of-type {\n",
       "        vertical-align: middle;\n",
       "    }\n",
       "\n",
       "    .dataframe tbody tr th {\n",
       "        vertical-align: top;\n",
       "    }\n",
       "\n",
       "    .dataframe thead th {\n",
       "        text-align: right;\n",
       "    }\n",
       "</style>\n",
       "<table border=\"1\" class=\"dataframe\">\n",
       "  <thead>\n",
       "    <tr style=\"text-align: right;\">\n",
       "      <th></th>\n",
       "      <th>invoice_no</th>\n",
       "      <th>customer_id</th>\n",
       "      <th>category</th>\n",
       "      <th>quantity</th>\n",
       "      <th>price</th>\n",
       "      <th>invoice_date</th>\n",
       "      <th>shopping_mall</th>\n",
       "    </tr>\n",
       "  </thead>\n",
       "  <tbody>\n",
       "    <tr>\n",
       "      <th>0</th>\n",
       "      <td>I138884</td>\n",
       "      <td>C241288</td>\n",
       "      <td>Clothing</td>\n",
       "      <td>5</td>\n",
       "      <td>1500.40</td>\n",
       "      <td>05-08-2022</td>\n",
       "      <td>Kanyon</td>\n",
       "    </tr>\n",
       "    <tr>\n",
       "      <th>1</th>\n",
       "      <td>I317333</td>\n",
       "      <td>C111565</td>\n",
       "      <td>Shoes</td>\n",
       "      <td>3</td>\n",
       "      <td>1800.51</td>\n",
       "      <td>12-12-2021</td>\n",
       "      <td>Forum Istanbul</td>\n",
       "    </tr>\n",
       "    <tr>\n",
       "      <th>2</th>\n",
       "      <td>I127801</td>\n",
       "      <td>C266599</td>\n",
       "      <td>Clothing</td>\n",
       "      <td>1</td>\n",
       "      <td>300.08</td>\n",
       "      <td>09-11-2021</td>\n",
       "      <td>Metrocity</td>\n",
       "    </tr>\n",
       "    <tr>\n",
       "      <th>3</th>\n",
       "      <td>I173702</td>\n",
       "      <td>C988172</td>\n",
       "      <td>Shoes</td>\n",
       "      <td>5</td>\n",
       "      <td>3000.85</td>\n",
       "      <td>16-05-2021</td>\n",
       "      <td>Metropol AVM</td>\n",
       "    </tr>\n",
       "    <tr>\n",
       "      <th>4</th>\n",
       "      <td>I337046</td>\n",
       "      <td>C189076</td>\n",
       "      <td>Books</td>\n",
       "      <td>4</td>\n",
       "      <td>60.60</td>\n",
       "      <td>24-10-2021</td>\n",
       "      <td>Kanyon</td>\n",
       "    </tr>\n",
       "    <tr>\n",
       "      <th>...</th>\n",
       "      <td>...</td>\n",
       "      <td>...</td>\n",
       "      <td>...</td>\n",
       "      <td>...</td>\n",
       "      <td>...</td>\n",
       "      <td>...</td>\n",
       "      <td>...</td>\n",
       "    </tr>\n",
       "    <tr>\n",
       "      <th>99452</th>\n",
       "      <td>I219422</td>\n",
       "      <td>C441542</td>\n",
       "      <td>Souvenir</td>\n",
       "      <td>5</td>\n",
       "      <td>58.65</td>\n",
       "      <td>21-09-2022</td>\n",
       "      <td>Kanyon</td>\n",
       "    </tr>\n",
       "    <tr>\n",
       "      <th>99453</th>\n",
       "      <td>I325143</td>\n",
       "      <td>C569580</td>\n",
       "      <td>Food &amp; Beverage</td>\n",
       "      <td>2</td>\n",
       "      <td>10.46</td>\n",
       "      <td>22-09-2021</td>\n",
       "      <td>Forum Istanbul</td>\n",
       "    </tr>\n",
       "    <tr>\n",
       "      <th>99454</th>\n",
       "      <td>I824010</td>\n",
       "      <td>C103292</td>\n",
       "      <td>Food &amp; Beverage</td>\n",
       "      <td>2</td>\n",
       "      <td>10.46</td>\n",
       "      <td>28-03-2021</td>\n",
       "      <td>Metrocity</td>\n",
       "    </tr>\n",
       "    <tr>\n",
       "      <th>99455</th>\n",
       "      <td>I702964</td>\n",
       "      <td>C800631</td>\n",
       "      <td>Technology</td>\n",
       "      <td>4</td>\n",
       "      <td>4200.00</td>\n",
       "      <td>16-03-2021</td>\n",
       "      <td>Istinye Park</td>\n",
       "    </tr>\n",
       "    <tr>\n",
       "      <th>99456</th>\n",
       "      <td>I232867</td>\n",
       "      <td>C273973</td>\n",
       "      <td>Souvenir</td>\n",
       "      <td>3</td>\n",
       "      <td>35.19</td>\n",
       "      <td>15-10-2022</td>\n",
       "      <td>Mall of Istanbul</td>\n",
       "    </tr>\n",
       "  </tbody>\n",
       "</table>\n",
       "<p>99457 rows × 7 columns</p>\n",
       "</div>"
      ],
      "text/plain": [
       "      invoice_no customer_id         category  quantity    price invoice_date  \\\n",
       "0        I138884     C241288         Clothing         5  1500.40   05-08-2022   \n",
       "1        I317333     C111565            Shoes         3  1800.51   12-12-2021   \n",
       "2        I127801     C266599         Clothing         1   300.08   09-11-2021   \n",
       "3        I173702     C988172            Shoes         5  3000.85   16-05-2021   \n",
       "4        I337046     C189076            Books         4    60.60   24-10-2021   \n",
       "...          ...         ...              ...       ...      ...          ...   \n",
       "99452    I219422     C441542         Souvenir         5    58.65   21-09-2022   \n",
       "99453    I325143     C569580  Food & Beverage         2    10.46   22-09-2021   \n",
       "99454    I824010     C103292  Food & Beverage         2    10.46   28-03-2021   \n",
       "99455    I702964     C800631       Technology         4  4200.00   16-03-2021   \n",
       "99456    I232867     C273973         Souvenir         3    35.19   15-10-2022   \n",
       "\n",
       "          shopping_mall  \n",
       "0                Kanyon  \n",
       "1        Forum Istanbul  \n",
       "2             Metrocity  \n",
       "3          Metropol AVM  \n",
       "4                Kanyon  \n",
       "...                 ...  \n",
       "99452            Kanyon  \n",
       "99453    Forum Istanbul  \n",
       "99454         Metrocity  \n",
       "99455      Istinye Park  \n",
       "99456  Mall of Istanbul  \n",
       "\n",
       "[99457 rows x 7 columns]"
      ]
     },
     "execution_count": 9,
     "metadata": {},
     "output_type": "execute_result"
    }
   ],
   "source": [
    "df_ventas"
   ]
  },
  {
   "cell_type": "markdown",
   "id": "4c7e1032",
   "metadata": {},
   "source": [
    "##### Luego, a través del método *info* muestro un resumen de cada dataframe, incluyendo información sobre el tipo de los índices de filas y columnas, los valores no nulos y la memoria usada: esto me permite tener una mirada más específica de la estructura de los datos con los que estoy trabajando --"
   ]
  },
  {
   "cell_type": "code",
   "execution_count": 10,
   "id": "9088fe44",
   "metadata": {
    "scrolled": true
   },
   "outputs": [
    {
     "name": "stdout",
     "output_type": "stream",
     "text": [
      "<class 'pandas.core.frame.DataFrame'>\n",
      "RangeIndex: 99457 entries, 0 to 99456\n",
      "Data columns (total 4 columns):\n",
      " #   Column          Non-Null Count  Dtype  \n",
      "---  ------          --------------  -----  \n",
      " 0   customer_id     99457 non-null  object \n",
      " 1   gender          99457 non-null  object \n",
      " 2   age             99338 non-null  float64\n",
      " 3   payment_method  99457 non-null  object \n",
      "dtypes: float64(1), object(3)\n",
      "memory usage: 3.0+ MB\n"
     ]
    }
   ],
   "source": [
    "df_clientes.info()"
   ]
  },
  {
   "cell_type": "code",
   "execution_count": 11,
   "id": "1fdb3a74",
   "metadata": {},
   "outputs": [
    {
     "name": "stdout",
     "output_type": "stream",
     "text": [
      "<class 'pandas.core.frame.DataFrame'>\n",
      "RangeIndex: 99457 entries, 0 to 99456\n",
      "Data columns (total 7 columns):\n",
      " #   Column         Non-Null Count  Dtype  \n",
      "---  ------         --------------  -----  \n",
      " 0   invoice_no     99457 non-null  object \n",
      " 1   customer_id    99457 non-null  object \n",
      " 2   category       99457 non-null  object \n",
      " 3   quantity       99457 non-null  int64  \n",
      " 4   price          99457 non-null  float64\n",
      " 5   invoice_date   99457 non-null  object \n",
      " 6   shopping_mall  99457 non-null  object \n",
      "dtypes: float64(1), int64(1), object(5)\n",
      "memory usage: 5.3+ MB\n"
     ]
    }
   ],
   "source": [
    "df_ventas.info()"
   ]
  },
  {
   "cell_type": "markdown",
   "id": "2c394b47",
   "metadata": {},
   "source": [
    "##### Por último una vista de la cantidad de filas y columnas de los dataFrame utilizando el atributo *shape* y concluimos esta primera parte en dónde observamos la estructura en dónde se encuentran los datos, además de la cantidad y el tipo de datos con los que vamos a trabajar --"
   ]
  },
  {
   "cell_type": "code",
   "execution_count": 12,
   "id": "6800af2e",
   "metadata": {},
   "outputs": [
    {
     "data": {
      "text/plain": [
       "(99457, 7)"
      ]
     },
     "execution_count": 12,
     "metadata": {},
     "output_type": "execute_result"
    }
   ],
   "source": [
    "df_ventas.shape"
   ]
  },
  {
   "cell_type": "code",
   "execution_count": 13,
   "id": "778b2525",
   "metadata": {},
   "outputs": [
    {
     "data": {
      "text/plain": [
       "(99457, 4)"
      ]
     },
     "execution_count": 13,
     "metadata": {},
     "output_type": "execute_result"
    }
   ],
   "source": [
    "df_clientes.shape"
   ]
  },
  {
   "cell_type": "markdown",
   "id": "17cee4bf",
   "metadata": {},
   "source": [
    "## 3. Concatenar los dos Data Frames anteriores, en uno final con información relevante. No borrar los Dataframes de ventas y clientes "
   ]
  },
  {
   "cell_type": "markdown",
   "id": "d9f6ce77",
   "metadata": {},
   "source": [
    "##### Decido concatenar con el método *merge* mezclando todos los registros para posteriormente realizar una limpieza --"
   ]
  },
  {
   "cell_type": "code",
   "execution_count": 14,
   "id": "40c58208",
   "metadata": {},
   "outputs": [],
   "source": [
    "df_negocio = pd.merge(df_ventas,df_clientes, on='customer_id', how = 'outer') "
   ]
  },
  {
   "cell_type": "code",
   "execution_count": 15,
   "id": "fd4687d9",
   "metadata": {},
   "outputs": [
    {
     "data": {
      "text/html": [
       "<div>\n",
       "<style scoped>\n",
       "    .dataframe tbody tr th:only-of-type {\n",
       "        vertical-align: middle;\n",
       "    }\n",
       "\n",
       "    .dataframe tbody tr th {\n",
       "        vertical-align: top;\n",
       "    }\n",
       "\n",
       "    .dataframe thead th {\n",
       "        text-align: right;\n",
       "    }\n",
       "</style>\n",
       "<table border=\"1\" class=\"dataframe\">\n",
       "  <thead>\n",
       "    <tr style=\"text-align: right;\">\n",
       "      <th></th>\n",
       "      <th>invoice_no</th>\n",
       "      <th>customer_id</th>\n",
       "      <th>category</th>\n",
       "      <th>quantity</th>\n",
       "      <th>price</th>\n",
       "      <th>invoice_date</th>\n",
       "      <th>shopping_mall</th>\n",
       "      <th>gender</th>\n",
       "      <th>age</th>\n",
       "      <th>payment_method</th>\n",
       "    </tr>\n",
       "  </thead>\n",
       "  <tbody>\n",
       "    <tr>\n",
       "      <th>0</th>\n",
       "      <td>I138884</td>\n",
       "      <td>C241288</td>\n",
       "      <td>Clothing</td>\n",
       "      <td>5</td>\n",
       "      <td>1500.40</td>\n",
       "      <td>05-08-2022</td>\n",
       "      <td>Kanyon</td>\n",
       "      <td>Female</td>\n",
       "      <td>28.0</td>\n",
       "      <td>Credit Card</td>\n",
       "    </tr>\n",
       "    <tr>\n",
       "      <th>1</th>\n",
       "      <td>I317333</td>\n",
       "      <td>C111565</td>\n",
       "      <td>Shoes</td>\n",
       "      <td>3</td>\n",
       "      <td>1800.51</td>\n",
       "      <td>12-12-2021</td>\n",
       "      <td>Forum Istanbul</td>\n",
       "      <td>Male</td>\n",
       "      <td>21.0</td>\n",
       "      <td>Debit Card</td>\n",
       "    </tr>\n",
       "    <tr>\n",
       "      <th>2</th>\n",
       "      <td>I127801</td>\n",
       "      <td>C266599</td>\n",
       "      <td>Clothing</td>\n",
       "      <td>1</td>\n",
       "      <td>300.08</td>\n",
       "      <td>09-11-2021</td>\n",
       "      <td>Metrocity</td>\n",
       "      <td>Male</td>\n",
       "      <td>20.0</td>\n",
       "      <td>Cash</td>\n",
       "    </tr>\n",
       "    <tr>\n",
       "      <th>3</th>\n",
       "      <td>I173702</td>\n",
       "      <td>C988172</td>\n",
       "      <td>Shoes</td>\n",
       "      <td>5</td>\n",
       "      <td>3000.85</td>\n",
       "      <td>16-05-2021</td>\n",
       "      <td>Metropol AVM</td>\n",
       "      <td>Female</td>\n",
       "      <td>66.0</td>\n",
       "      <td>Credit Card</td>\n",
       "    </tr>\n",
       "    <tr>\n",
       "      <th>4</th>\n",
       "      <td>I337046</td>\n",
       "      <td>C189076</td>\n",
       "      <td>Books</td>\n",
       "      <td>4</td>\n",
       "      <td>60.60</td>\n",
       "      <td>24-10-2021</td>\n",
       "      <td>Kanyon</td>\n",
       "      <td>Female</td>\n",
       "      <td>53.0</td>\n",
       "      <td>Cash</td>\n",
       "    </tr>\n",
       "    <tr>\n",
       "      <th>...</th>\n",
       "      <td>...</td>\n",
       "      <td>...</td>\n",
       "      <td>...</td>\n",
       "      <td>...</td>\n",
       "      <td>...</td>\n",
       "      <td>...</td>\n",
       "      <td>...</td>\n",
       "      <td>...</td>\n",
       "      <td>...</td>\n",
       "      <td>...</td>\n",
       "    </tr>\n",
       "    <tr>\n",
       "      <th>99452</th>\n",
       "      <td>I219422</td>\n",
       "      <td>C441542</td>\n",
       "      <td>Souvenir</td>\n",
       "      <td>5</td>\n",
       "      <td>58.65</td>\n",
       "      <td>21-09-2022</td>\n",
       "      <td>Kanyon</td>\n",
       "      <td>Female</td>\n",
       "      <td>45.0</td>\n",
       "      <td>Credit Card</td>\n",
       "    </tr>\n",
       "    <tr>\n",
       "      <th>99453</th>\n",
       "      <td>I325143</td>\n",
       "      <td>C569580</td>\n",
       "      <td>Food &amp; Beverage</td>\n",
       "      <td>2</td>\n",
       "      <td>10.46</td>\n",
       "      <td>22-09-2021</td>\n",
       "      <td>Forum Istanbul</td>\n",
       "      <td>Male</td>\n",
       "      <td>27.0</td>\n",
       "      <td>Cash</td>\n",
       "    </tr>\n",
       "    <tr>\n",
       "      <th>99454</th>\n",
       "      <td>I824010</td>\n",
       "      <td>C103292</td>\n",
       "      <td>Food &amp; Beverage</td>\n",
       "      <td>2</td>\n",
       "      <td>10.46</td>\n",
       "      <td>28-03-2021</td>\n",
       "      <td>Metrocity</td>\n",
       "      <td>Male</td>\n",
       "      <td>63.0</td>\n",
       "      <td>Debit Card</td>\n",
       "    </tr>\n",
       "    <tr>\n",
       "      <th>99455</th>\n",
       "      <td>I702964</td>\n",
       "      <td>C800631</td>\n",
       "      <td>Technology</td>\n",
       "      <td>4</td>\n",
       "      <td>4200.00</td>\n",
       "      <td>16-03-2021</td>\n",
       "      <td>Istinye Park</td>\n",
       "      <td>Male</td>\n",
       "      <td>56.0</td>\n",
       "      <td>Cash</td>\n",
       "    </tr>\n",
       "    <tr>\n",
       "      <th>99456</th>\n",
       "      <td>I232867</td>\n",
       "      <td>C273973</td>\n",
       "      <td>Souvenir</td>\n",
       "      <td>3</td>\n",
       "      <td>35.19</td>\n",
       "      <td>15-10-2022</td>\n",
       "      <td>Mall of Istanbul</td>\n",
       "      <td>Female</td>\n",
       "      <td>36.0</td>\n",
       "      <td>Credit Card</td>\n",
       "    </tr>\n",
       "  </tbody>\n",
       "</table>\n",
       "<p>99457 rows × 10 columns</p>\n",
       "</div>"
      ],
      "text/plain": [
       "      invoice_no customer_id         category  quantity    price invoice_date  \\\n",
       "0        I138884     C241288         Clothing         5  1500.40   05-08-2022   \n",
       "1        I317333     C111565            Shoes         3  1800.51   12-12-2021   \n",
       "2        I127801     C266599         Clothing         1   300.08   09-11-2021   \n",
       "3        I173702     C988172            Shoes         5  3000.85   16-05-2021   \n",
       "4        I337046     C189076            Books         4    60.60   24-10-2021   \n",
       "...          ...         ...              ...       ...      ...          ...   \n",
       "99452    I219422     C441542         Souvenir         5    58.65   21-09-2022   \n",
       "99453    I325143     C569580  Food & Beverage         2    10.46   22-09-2021   \n",
       "99454    I824010     C103292  Food & Beverage         2    10.46   28-03-2021   \n",
       "99455    I702964     C800631       Technology         4  4200.00   16-03-2021   \n",
       "99456    I232867     C273973         Souvenir         3    35.19   15-10-2022   \n",
       "\n",
       "          shopping_mall  gender   age payment_method  \n",
       "0                Kanyon  Female  28.0    Credit Card  \n",
       "1        Forum Istanbul    Male  21.0     Debit Card  \n",
       "2             Metrocity    Male  20.0           Cash  \n",
       "3          Metropol AVM  Female  66.0    Credit Card  \n",
       "4                Kanyon  Female  53.0           Cash  \n",
       "...                 ...     ...   ...            ...  \n",
       "99452            Kanyon  Female  45.0    Credit Card  \n",
       "99453    Forum Istanbul    Male  27.0           Cash  \n",
       "99454         Metrocity    Male  63.0     Debit Card  \n",
       "99455      Istinye Park    Male  56.0           Cash  \n",
       "99456  Mall of Istanbul  Female  36.0    Credit Card  \n",
       "\n",
       "[99457 rows x 10 columns]"
      ]
     },
     "execution_count": 15,
     "metadata": {},
     "output_type": "execute_result"
    }
   ],
   "source": [
    "df_negocio"
   ]
  },
  {
   "cell_type": "markdown",
   "id": "16fe1533",
   "metadata": {},
   "source": [
    "# Transformación de Datos (Transform): \n",
    "## Realizar operaciones de limpieza y preparación de datos en ambos DataFrames. Esto incluirá la gestión de valores nulos, la estandarización de formatos de fecha, y la unión de datos de ventas y clientes utilizando el campo común \"id del cliente\"."
   ]
  },
  {
   "cell_type": "markdown",
   "id": "f809d6c8",
   "metadata": {},
   "source": [
    "##### Utilizo este comando para buscar un cliente a partir de su customer_id, esto es solo para consultas de pruebas --"
   ]
  },
  {
   "cell_type": "code",
   "execution_count": 16,
   "id": "46ca94ff",
   "metadata": {},
   "outputs": [
    {
     "data": {
      "text/html": [
       "<div>\n",
       "<style scoped>\n",
       "    .dataframe tbody tr th:only-of-type {\n",
       "        vertical-align: middle;\n",
       "    }\n",
       "\n",
       "    .dataframe tbody tr th {\n",
       "        vertical-align: top;\n",
       "    }\n",
       "\n",
       "    .dataframe thead th {\n",
       "        text-align: right;\n",
       "    }\n",
       "</style>\n",
       "<table border=\"1\" class=\"dataframe\">\n",
       "  <thead>\n",
       "    <tr style=\"text-align: right;\">\n",
       "      <th></th>\n",
       "      <th>invoice_no</th>\n",
       "      <th>customer_id</th>\n",
       "      <th>category</th>\n",
       "      <th>quantity</th>\n",
       "      <th>price</th>\n",
       "      <th>invoice_date</th>\n",
       "      <th>shopping_mall</th>\n",
       "      <th>gender</th>\n",
       "      <th>age</th>\n",
       "      <th>payment_method</th>\n",
       "    </tr>\n",
       "  </thead>\n",
       "  <tbody>\n",
       "    <tr>\n",
       "      <th>99453</th>\n",
       "      <td>I325143</td>\n",
       "      <td>C569580</td>\n",
       "      <td>Food &amp; Beverage</td>\n",
       "      <td>2</td>\n",
       "      <td>10.46</td>\n",
       "      <td>22-09-2021</td>\n",
       "      <td>Forum Istanbul</td>\n",
       "      <td>Male</td>\n",
       "      <td>27.0</td>\n",
       "      <td>Cash</td>\n",
       "    </tr>\n",
       "  </tbody>\n",
       "</table>\n",
       "</div>"
      ],
      "text/plain": [
       "      invoice_no customer_id         category  quantity  price invoice_date  \\\n",
       "99453    I325143     C569580  Food & Beverage         2  10.46   22-09-2021   \n",
       "\n",
       "        shopping_mall gender   age payment_method  \n",
       "99453  Forum Istanbul   Male  27.0           Cash  "
      ]
     },
     "execution_count": 16,
     "metadata": {},
     "output_type": "execute_result"
    }
   ],
   "source": [
    "df_negocio.loc[df_negocio.customer_id ==\"C569580\"]"
   ]
  },
  {
   "cell_type": "markdown",
   "id": "1f27549f",
   "metadata": {},
   "source": [
    "##### Utilizo describe para imprimir una vista general de las columnas y los valores --"
   ]
  },
  {
   "cell_type": "code",
   "execution_count": 17,
   "id": "5702e6cc",
   "metadata": {},
   "outputs": [
    {
     "name": "stdout",
     "output_type": "stream",
     "text": [
      "<bound method NDFrame.describe of       invoice_no customer_id         category  quantity    price invoice_date  \\\n",
      "0        I138884     C241288         Clothing         5  1500.40   05-08-2022   \n",
      "1        I317333     C111565            Shoes         3  1800.51   12-12-2021   \n",
      "2        I127801     C266599         Clothing         1   300.08   09-11-2021   \n",
      "3        I173702     C988172            Shoes         5  3000.85   16-05-2021   \n",
      "4        I337046     C189076            Books         4    60.60   24-10-2021   \n",
      "...          ...         ...              ...       ...      ...          ...   \n",
      "99452    I219422     C441542         Souvenir         5    58.65   21-09-2022   \n",
      "99453    I325143     C569580  Food & Beverage         2    10.46   22-09-2021   \n",
      "99454    I824010     C103292  Food & Beverage         2    10.46   28-03-2021   \n",
      "99455    I702964     C800631       Technology         4  4200.00   16-03-2021   \n",
      "99456    I232867     C273973         Souvenir         3    35.19   15-10-2022   \n",
      "\n",
      "          shopping_mall  gender   age payment_method  \n",
      "0                Kanyon  Female  28.0    Credit Card  \n",
      "1        Forum Istanbul    Male  21.0     Debit Card  \n",
      "2             Metrocity    Male  20.0           Cash  \n",
      "3          Metropol AVM  Female  66.0    Credit Card  \n",
      "4                Kanyon  Female  53.0           Cash  \n",
      "...                 ...     ...   ...            ...  \n",
      "99452            Kanyon  Female  45.0    Credit Card  \n",
      "99453    Forum Istanbul    Male  27.0           Cash  \n",
      "99454         Metrocity    Male  63.0     Debit Card  \n",
      "99455      Istinye Park    Male  56.0           Cash  \n",
      "99456  Mall of Istanbul  Female  36.0    Credit Card  \n",
      "\n",
      "[99457 rows x 10 columns]>\n"
     ]
    }
   ],
   "source": [
    "print(df_negocio.describe)"
   ]
  },
  {
   "cell_type": "markdown",
   "id": "9943ec5c",
   "metadata": {},
   "source": [
    "## Manejo de datos faltantes \n",
    "##### Utilizo el método *info* para ver nuevamente los datos del nuevo dataframe *NEGOCIO* y puedo notar que en la columna *age* tengo 99338 registros en vez de 99457 --"
   ]
  },
  {
   "cell_type": "code",
   "execution_count": 18,
   "id": "a1fcc510",
   "metadata": {},
   "outputs": [
    {
     "name": "stdout",
     "output_type": "stream",
     "text": [
      "<class 'pandas.core.frame.DataFrame'>\n",
      "Int64Index: 99457 entries, 0 to 99456\n",
      "Data columns (total 10 columns):\n",
      " #   Column          Non-Null Count  Dtype  \n",
      "---  ------          --------------  -----  \n",
      " 0   invoice_no      99457 non-null  object \n",
      " 1   customer_id     99457 non-null  object \n",
      " 2   category        99457 non-null  object \n",
      " 3   quantity        99457 non-null  int64  \n",
      " 4   price           99457 non-null  float64\n",
      " 5   invoice_date    99457 non-null  object \n",
      " 6   shopping_mall   99457 non-null  object \n",
      " 7   gender          99457 non-null  object \n",
      " 8   age             99338 non-null  float64\n",
      " 9   payment_method  99457 non-null  object \n",
      "dtypes: float64(2), int64(1), object(7)\n",
      "memory usage: 8.3+ MB\n"
     ]
    }
   ],
   "source": [
    "df_negocio.info()"
   ]
  },
  {
   "cell_type": "markdown",
   "id": "bb78ff82",
   "metadata": {},
   "source": [
    "##### En este caso, al ser 119 registros los faltantes, en vez de eliminarlos, utilizaré la edad media para remplazar o rellenar esos espacios --"
   ]
  },
  {
   "cell_type": "code",
   "execution_count": 19,
   "id": "3bb631ed",
   "metadata": {},
   "outputs": [
    {
     "data": {
      "text/plain": [
       "invoice_no          0\n",
       "customer_id         0\n",
       "category            0\n",
       "quantity            0\n",
       "price               0\n",
       "invoice_date        0\n",
       "shopping_mall       0\n",
       "gender              0\n",
       "age               119\n",
       "payment_method      0\n",
       "dtype: int64"
      ]
     },
     "execution_count": 19,
     "metadata": {},
     "output_type": "execute_result"
    }
   ],
   "source": [
    "df_negocio.isnull().sum()"
   ]
  },
  {
   "cell_type": "markdown",
   "id": "e8e390e7",
   "metadata": {},
   "source": [
    "##### a través de *describe* observo la edad media del dataframe negocio --"
   ]
  },
  {
   "cell_type": "code",
   "execution_count": 20,
   "id": "607a17f9",
   "metadata": {},
   "outputs": [
    {
     "data": {
      "text/html": [
       "<div>\n",
       "<style scoped>\n",
       "    .dataframe tbody tr th:only-of-type {\n",
       "        vertical-align: middle;\n",
       "    }\n",
       "\n",
       "    .dataframe tbody tr th {\n",
       "        vertical-align: top;\n",
       "    }\n",
       "\n",
       "    .dataframe thead th {\n",
       "        text-align: right;\n",
       "    }\n",
       "</style>\n",
       "<table border=\"1\" class=\"dataframe\">\n",
       "  <thead>\n",
       "    <tr style=\"text-align: right;\">\n",
       "      <th></th>\n",
       "      <th>quantity</th>\n",
       "      <th>price</th>\n",
       "      <th>age</th>\n",
       "    </tr>\n",
       "  </thead>\n",
       "  <tbody>\n",
       "    <tr>\n",
       "      <th>count</th>\n",
       "      <td>99457.000000</td>\n",
       "      <td>99457.000000</td>\n",
       "      <td>99338.000000</td>\n",
       "    </tr>\n",
       "    <tr>\n",
       "      <th>mean</th>\n",
       "      <td>3.003429</td>\n",
       "      <td>689.256321</td>\n",
       "      <td>43.425859</td>\n",
       "    </tr>\n",
       "    <tr>\n",
       "      <th>std</th>\n",
       "      <td>1.413025</td>\n",
       "      <td>941.184567</td>\n",
       "      <td>14.989400</td>\n",
       "    </tr>\n",
       "    <tr>\n",
       "      <th>min</th>\n",
       "      <td>1.000000</td>\n",
       "      <td>5.230000</td>\n",
       "      <td>18.000000</td>\n",
       "    </tr>\n",
       "    <tr>\n",
       "      <th>25%</th>\n",
       "      <td>2.000000</td>\n",
       "      <td>45.450000</td>\n",
       "      <td>30.000000</td>\n",
       "    </tr>\n",
       "    <tr>\n",
       "      <th>50%</th>\n",
       "      <td>3.000000</td>\n",
       "      <td>203.300000</td>\n",
       "      <td>43.000000</td>\n",
       "    </tr>\n",
       "    <tr>\n",
       "      <th>75%</th>\n",
       "      <td>4.000000</td>\n",
       "      <td>1200.320000</td>\n",
       "      <td>56.000000</td>\n",
       "    </tr>\n",
       "    <tr>\n",
       "      <th>max</th>\n",
       "      <td>5.000000</td>\n",
       "      <td>5250.000000</td>\n",
       "      <td>69.000000</td>\n",
       "    </tr>\n",
       "  </tbody>\n",
       "</table>\n",
       "</div>"
      ],
      "text/plain": [
       "           quantity         price           age\n",
       "count  99457.000000  99457.000000  99338.000000\n",
       "mean       3.003429    689.256321     43.425859\n",
       "std        1.413025    941.184567     14.989400\n",
       "min        1.000000      5.230000     18.000000\n",
       "25%        2.000000     45.450000     30.000000\n",
       "50%        3.000000    203.300000     43.000000\n",
       "75%        4.000000   1200.320000     56.000000\n",
       "max        5.000000   5250.000000     69.000000"
      ]
     },
     "execution_count": 20,
     "metadata": {},
     "output_type": "execute_result"
    }
   ],
   "source": [
    "df_negocio.describe()"
   ]
  },
  {
   "cell_type": "markdown",
   "id": "323d5a6d",
   "metadata": {},
   "source": [
    "##### Utilizaré la edad media de 43 años para resolver este problema,con la función *replace*, ya que eliminar estos regístros significa perdida de datos valiosos, en este caso particular, también probé con *sklearn* con *SimpleImputer* pero al momento de utilizar *fit()* para el entrenamiento me daba constantemente error, y pese a buscar soluciones, no fue posible dar con la respuesta al error, decidí seguir con el tp con la solución más sencilla "
   ]
  },
  {
   "cell_type": "code",
   "execution_count": 21,
   "id": "c55763a9",
   "metadata": {},
   "outputs": [],
   "source": [
    "df_negocio[\"age\"] = df_negocio[\"age\"].replace(np.nan, 43) "
   ]
  },
  {
   "cell_type": "markdown",
   "id": "1581c3ef",
   "metadata": {},
   "source": [
    "##### Compruebo el estado de esos registros que anteriormente se encontraban vacios --"
   ]
  },
  {
   "cell_type": "code",
   "execution_count": 22,
   "id": "23f6a468",
   "metadata": {},
   "outputs": [
    {
     "data": {
      "text/plain": [
       "invoice_no        0\n",
       "customer_id       0\n",
       "category          0\n",
       "quantity          0\n",
       "price             0\n",
       "invoice_date      0\n",
       "shopping_mall     0\n",
       "gender            0\n",
       "age               0\n",
       "payment_method    0\n",
       "dtype: int64"
      ]
     },
     "execution_count": 22,
     "metadata": {},
     "output_type": "execute_result"
    }
   ],
   "source": [
    "df_negocio.isnull().sum()"
   ]
  },
  {
   "cell_type": "markdown",
   "id": "5b2b47ac",
   "metadata": {},
   "source": [
    "##### Chequeo nuevamente el tipo de dato --"
   ]
  },
  {
   "cell_type": "code",
   "execution_count": 23,
   "id": "2bb2c869",
   "metadata": {
    "scrolled": false
   },
   "outputs": [
    {
     "data": {
      "text/plain": [
       "invoice_no         object\n",
       "customer_id        object\n",
       "category           object\n",
       "quantity            int64\n",
       "price             float64\n",
       "invoice_date       object\n",
       "shopping_mall      object\n",
       "gender             object\n",
       "age               float64\n",
       "payment_method     object\n",
       "dtype: object"
      ]
     },
     "execution_count": 23,
     "metadata": {},
     "output_type": "execute_result"
    }
   ],
   "source": [
    "df_negocio.dtypes"
   ]
  },
  {
   "cell_type": "markdown",
   "id": "49b95ebd",
   "metadata": {},
   "source": [
    "##### Y cambio el dato de la columna *age* a enteros "
   ]
  },
  {
   "cell_type": "code",
   "execution_count": 24,
   "id": "60a3e466",
   "metadata": {},
   "outputs": [],
   "source": [
    "df_negocio['age'] = df_negocio['age'].astype('int64')"
   ]
  },
  {
   "cell_type": "code",
   "execution_count": 25,
   "id": "0e54f4bf",
   "metadata": {},
   "outputs": [
    {
     "data": {
      "text/plain": [
       "0        28\n",
       "1        21\n",
       "2        20\n",
       "3        66\n",
       "4        53\n",
       "         ..\n",
       "99452    45\n",
       "99453    27\n",
       "99454    63\n",
       "99455    56\n",
       "99456    36\n",
       "Name: age, Length: 99457, dtype: int64"
      ]
     },
     "execution_count": 25,
     "metadata": {},
     "output_type": "execute_result"
    }
   ],
   "source": [
    "df_negocio[\"age\"]"
   ]
  },
  {
   "cell_type": "markdown",
   "id": "a1f63554",
   "metadata": {},
   "source": [
    "##### Conteo de los niveles en las diferentes columnas categóricas --"
   ]
  },
  {
   "cell_type": "code",
   "execution_count": 26,
   "id": "7cd0f530",
   "metadata": {},
   "outputs": [],
   "source": [
    "cols_cat = [\"category\", \"shopping_mall\", \"gender\", \"payment_method\"]"
   ]
  },
  {
   "cell_type": "markdown",
   "id": "5804efe1",
   "metadata": {},
   "source": [
    "##### Realizo un conteo de los diferentes valores de los subniveles --"
   ]
  },
  {
   "cell_type": "code",
   "execution_count": 27,
   "id": "4fc6c185",
   "metadata": {},
   "outputs": [
    {
     "name": "stdout",
     "output_type": "stream",
     "text": [
      "columna category: 8 subniveles\n",
      "columna shopping_mall: 10 subniveles\n",
      "columna gender: 2 subniveles\n",
      "columna payment_method: 3 subniveles\n"
     ]
    }
   ],
   "source": [
    "for col in cols_cat:\n",
    "    print(f'columna {col}: {df_negocio[col].nunique()} subniveles')"
   ]
  },
  {
   "cell_type": "markdown",
   "id": "cfa13d79",
   "metadata": {},
   "source": [
    "## Limpieza de filas repetidas \n",
    "##### Realizo una limpieza de posibles filas repetidas --"
   ]
  },
  {
   "cell_type": "code",
   "execution_count": 28,
   "id": "e9b8ac70",
   "metadata": {},
   "outputs": [
    {
     "name": "stdout",
     "output_type": "stream",
     "text": [
      "Tamañó del set antes de eliminar las filas repetidas: (99457, 10)\n",
      "Tamañó del set después de eliminar las filas repetidas: (99457, 10)\n"
     ]
    }
   ],
   "source": [
    "print(f'Tamañó del set antes de eliminar las filas repetidas: {df_negocio.shape}')\n",
    "df_negocio.drop_duplicates(inplace = True)\n",
    "print(f'Tamañó del set después de eliminar las filas repetidas: {df_negocio.shape}')"
   ]
  },
  {
   "cell_type": "markdown",
   "id": "9ad48fb2",
   "metadata": {},
   "source": [
    "##### Lo que confirma que no había filas repetidas "
   ]
  },
  {
   "cell_type": "markdown",
   "id": "fbed7e0d",
   "metadata": {},
   "source": [
    "## Errores tipográficos en variables categóricas\n",
    "##### Reviso posibles errores tipográficos en las distintas variables de las columnas categóricas --"
   ]
  },
  {
   "cell_type": "code",
   "execution_count": 29,
   "id": "42033ca1",
   "metadata": {
    "scrolled": false
   },
   "outputs": [
    {
     "data": {
      "image/png": "[encoded data removed]",
      "text/plain": [
       "<Figure size 1000x3000 with 4 Axes>"
      ]
     },
     "metadata": {},
     "output_type": "display_data"
    }
   ],
   "source": [
    "cols_cat = [\"category\", \"shopping_mall\", \"gender\", \"payment_method\"]\n",
    "fig, ax = plt.subplots(nrows=4, ncols=1, figsize=(10,30))\n",
    "fig.subplots_adjust(hspace=1)\n",
    "\n",
    "for i, col in enumerate(cols_cat):\n",
    "    sns.countplot(x=col, data = df_negocio, ax=ax[i])\n",
    "    ax[i].set_title(col)\n",
    "    ax[i].set_xticklabels(ax[i].get_xticklabels(), rotation=30)"
   ]
  },
  {
   "cell_type": "markdown",
   "id": "cbbe1b10",
   "metadata": {},
   "source": [
    "## Outliers - Valores extremos -\n",
    "##### Reviso si hay datos extremos en las columnas numéricas "
   ]
  },
  {
   "cell_type": "code",
   "execution_count": 30,
   "id": "0ba888f0",
   "metadata": {
    "scrolled": false
   },
   "outputs": [
    {
     "data": {
      "image/png": "[encoded data removed]",
      "text/plain": [
       "<Figure size 800x3000 with 3 Axes>"
      ]
     },
     "metadata": {},
     "output_type": "display_data"
    }
   ],
   "source": [
    "cols_num = [\"quantity\", \"price\", \"age\"]\n",
    "fig, ax = plt.subplots(nrows=3, ncols=1, figsize=(8,30))\n",
    "fig.subplots_adjust(hspace=0.5)\n",
    "\n",
    "for i, col in enumerate(cols_num):\n",
    "    sns.boxplot(x=col, data = df_negocio, ax=ax[i])\n",
    "    ax[i].set_title(col)"
   ]
  },
  {
   "cell_type": "markdown",
   "id": "3b4dd98c",
   "metadata": {},
   "source": [
    "## Unificación del index por el Id del cliente"
   ]
  },
  {
   "cell_type": "code",
   "execution_count": 31,
   "id": "f72fa008",
   "metadata": {},
   "outputs": [],
   "source": [
    "df_negocio = df_negocio.set_index('customer_id')"
   ]
  },
  {
   "cell_type": "code",
   "execution_count": 32,
   "id": "4917a674",
   "metadata": {},
   "outputs": [
    {
     "data": {
      "text/html": [
       "<div>\n",
       "<style scoped>\n",
       "    .dataframe tbody tr th:only-of-type {\n",
       "        vertical-align: middle;\n",
       "    }\n",
       "\n",
       "    .dataframe tbody tr th {\n",
       "        vertical-align: top;\n",
       "    }\n",
       "\n",
       "    .dataframe thead th {\n",
       "        text-align: right;\n",
       "    }\n",
       "</style>\n",
       "<table border=\"1\" class=\"dataframe\">\n",
       "  <thead>\n",
       "    <tr style=\"text-align: right;\">\n",
       "      <th></th>\n",
       "      <th>invoice_no</th>\n",
       "      <th>category</th>\n",
       "      <th>quantity</th>\n",
       "      <th>price</th>\n",
       "      <th>invoice_date</th>\n",
       "      <th>shopping_mall</th>\n",
       "      <th>gender</th>\n",
       "      <th>age</th>\n",
       "      <th>payment_method</th>\n",
       "    </tr>\n",
       "    <tr>\n",
       "      <th>customer_id</th>\n",
       "      <th></th>\n",
       "      <th></th>\n",
       "      <th></th>\n",
       "      <th></th>\n",
       "      <th></th>\n",
       "      <th></th>\n",
       "      <th></th>\n",
       "      <th></th>\n",
       "      <th></th>\n",
       "    </tr>\n",
       "  </thead>\n",
       "  <tbody>\n",
       "    <tr>\n",
       "      <th>C241288</th>\n",
       "      <td>I138884</td>\n",
       "      <td>Clothing</td>\n",
       "      <td>5</td>\n",
       "      <td>1500.40</td>\n",
       "      <td>05-08-2022</td>\n",
       "      <td>Kanyon</td>\n",
       "      <td>Female</td>\n",
       "      <td>28</td>\n",
       "      <td>Credit Card</td>\n",
       "    </tr>\n",
       "    <tr>\n",
       "      <th>C111565</th>\n",
       "      <td>I317333</td>\n",
       "      <td>Shoes</td>\n",
       "      <td>3</td>\n",
       "      <td>1800.51</td>\n",
       "      <td>12-12-2021</td>\n",
       "      <td>Forum Istanbul</td>\n",
       "      <td>Male</td>\n",
       "      <td>21</td>\n",
       "      <td>Debit Card</td>\n",
       "    </tr>\n",
       "    <tr>\n",
       "      <th>C266599</th>\n",
       "      <td>I127801</td>\n",
       "      <td>Clothing</td>\n",
       "      <td>1</td>\n",
       "      <td>300.08</td>\n",
       "      <td>09-11-2021</td>\n",
       "      <td>Metrocity</td>\n",
       "      <td>Male</td>\n",
       "      <td>20</td>\n",
       "      <td>Cash</td>\n",
       "    </tr>\n",
       "    <tr>\n",
       "      <th>C988172</th>\n",
       "      <td>I173702</td>\n",
       "      <td>Shoes</td>\n",
       "      <td>5</td>\n",
       "      <td>3000.85</td>\n",
       "      <td>16-05-2021</td>\n",
       "      <td>Metropol AVM</td>\n",
       "      <td>Female</td>\n",
       "      <td>66</td>\n",
       "      <td>Credit Card</td>\n",
       "    </tr>\n",
       "    <tr>\n",
       "      <th>C189076</th>\n",
       "      <td>I337046</td>\n",
       "      <td>Books</td>\n",
       "      <td>4</td>\n",
       "      <td>60.60</td>\n",
       "      <td>24-10-2021</td>\n",
       "      <td>Kanyon</td>\n",
       "      <td>Female</td>\n",
       "      <td>53</td>\n",
       "      <td>Cash</td>\n",
       "    </tr>\n",
       "    <tr>\n",
       "      <th>...</th>\n",
       "      <td>...</td>\n",
       "      <td>...</td>\n",
       "      <td>...</td>\n",
       "      <td>...</td>\n",
       "      <td>...</td>\n",
       "      <td>...</td>\n",
       "      <td>...</td>\n",
       "      <td>...</td>\n",
       "      <td>...</td>\n",
       "    </tr>\n",
       "    <tr>\n",
       "      <th>C441542</th>\n",
       "      <td>I219422</td>\n",
       "      <td>Souvenir</td>\n",
       "      <td>5</td>\n",
       "      <td>58.65</td>\n",
       "      <td>21-09-2022</td>\n",
       "      <td>Kanyon</td>\n",
       "      <td>Female</td>\n",
       "      <td>45</td>\n",
       "      <td>Credit Card</td>\n",
       "    </tr>\n",
       "    <tr>\n",
       "      <th>C569580</th>\n",
       "      <td>I325143</td>\n",
       "      <td>Food &amp; Beverage</td>\n",
       "      <td>2</td>\n",
       "      <td>10.46</td>\n",
       "      <td>22-09-2021</td>\n",
       "      <td>Forum Istanbul</td>\n",
       "      <td>Male</td>\n",
       "      <td>27</td>\n",
       "      <td>Cash</td>\n",
       "    </tr>\n",
       "    <tr>\n",
       "      <th>C103292</th>\n",
       "      <td>I824010</td>\n",
       "      <td>Food &amp; Beverage</td>\n",
       "      <td>2</td>\n",
       "      <td>10.46</td>\n",
       "      <td>28-03-2021</td>\n",
       "      <td>Metrocity</td>\n",
       "      <td>Male</td>\n",
       "      <td>63</td>\n",
       "      <td>Debit Card</td>\n",
       "    </tr>\n",
       "    <tr>\n",
       "      <th>C800631</th>\n",
       "      <td>I702964</td>\n",
       "      <td>Technology</td>\n",
       "      <td>4</td>\n",
       "      <td>4200.00</td>\n",
       "      <td>16-03-2021</td>\n",
       "      <td>Istinye Park</td>\n",
       "      <td>Male</td>\n",
       "      <td>56</td>\n",
       "      <td>Cash</td>\n",
       "    </tr>\n",
       "    <tr>\n",
       "      <th>C273973</th>\n",
       "      <td>I232867</td>\n",
       "      <td>Souvenir</td>\n",
       "      <td>3</td>\n",
       "      <td>35.19</td>\n",
       "      <td>15-10-2022</td>\n",
       "      <td>Mall of Istanbul</td>\n",
       "      <td>Female</td>\n",
       "      <td>36</td>\n",
       "      <td>Credit Card</td>\n",
       "    </tr>\n",
       "  </tbody>\n",
       "</table>\n",
       "<p>99457 rows × 9 columns</p>\n",
       "</div>"
      ],
      "text/plain": [
       "            invoice_no         category  quantity    price invoice_date  \\\n",
       "customer_id                                                               \n",
       "C241288        I138884         Clothing         5  1500.40   05-08-2022   \n",
       "C111565        I317333            Shoes         3  1800.51   12-12-2021   \n",
       "C266599        I127801         Clothing         1   300.08   09-11-2021   \n",
       "C988172        I173702            Shoes         5  3000.85   16-05-2021   \n",
       "C189076        I337046            Books         4    60.60   24-10-2021   \n",
       "...                ...              ...       ...      ...          ...   \n",
       "C441542        I219422         Souvenir         5    58.65   21-09-2022   \n",
       "C569580        I325143  Food & Beverage         2    10.46   22-09-2021   \n",
       "C103292        I824010  Food & Beverage         2    10.46   28-03-2021   \n",
       "C800631        I702964       Technology         4  4200.00   16-03-2021   \n",
       "C273973        I232867         Souvenir         3    35.19   15-10-2022   \n",
       "\n",
       "                shopping_mall  gender  age payment_method  \n",
       "customer_id                                                \n",
       "C241288                Kanyon  Female   28    Credit Card  \n",
       "C111565        Forum Istanbul    Male   21     Debit Card  \n",
       "C266599             Metrocity    Male   20           Cash  \n",
       "C988172          Metropol AVM  Female   66    Credit Card  \n",
       "C189076                Kanyon  Female   53           Cash  \n",
       "...                       ...     ...  ...            ...  \n",
       "C441542                Kanyon  Female   45    Credit Card  \n",
       "C569580        Forum Istanbul    Male   27           Cash  \n",
       "C103292             Metrocity    Male   63     Debit Card  \n",
       "C800631          Istinye Park    Male   56           Cash  \n",
       "C273973      Mall of Istanbul  Female   36    Credit Card  \n",
       "\n",
       "[99457 rows x 9 columns]"
      ]
     },
     "execution_count": 32,
     "metadata": {},
     "output_type": "execute_result"
    }
   ],
   "source": [
    "df_negocio"
   ]
  },
  {
   "cell_type": "markdown",
   "id": "ff75ba2d",
   "metadata": {},
   "source": [
    "## Estandarización de la fecha en la columna *invoice_date*"
   ]
  },
  {
   "cell_type": "code",
   "execution_count": 33,
   "id": "b1b23ba8",
   "metadata": {},
   "outputs": [],
   "source": [
    "df_negocio['invoice_date'] = pd.to_datetime(df_negocio['invoice_date'], dayfirst=True)"
   ]
  },
  {
   "cell_type": "markdown",
   "id": "23a7c5ff",
   "metadata": {},
   "source": [
    "##### Chequeo el tipo de dato de la columna invoice_date, que era del tipo object y ahora pasa a ser datetime64[ns] "
   ]
  },
  {
   "cell_type": "code",
   "execution_count": 34,
   "id": "0fbde89e",
   "metadata": {},
   "outputs": [
    {
     "name": "stdout",
     "output_type": "stream",
     "text": [
      "<class 'pandas.core.frame.DataFrame'>\n",
      "Index: 99457 entries, C241288 to C273973\n",
      "Data columns (total 9 columns):\n",
      " #   Column          Non-Null Count  Dtype         \n",
      "---  ------          --------------  -----         \n",
      " 0   invoice_no      99457 non-null  object        \n",
      " 1   category        99457 non-null  object        \n",
      " 2   quantity        99457 non-null  int64         \n",
      " 3   price           99457 non-null  float64       \n",
      " 4   invoice_date    99457 non-null  datetime64[ns]\n",
      " 5   shopping_mall   99457 non-null  object        \n",
      " 6   gender          99457 non-null  object        \n",
      " 7   age             99457 non-null  int64         \n",
      " 8   payment_method  99457 non-null  object        \n",
      "dtypes: datetime64[ns](1), float64(1), int64(2), object(5)\n",
      "memory usage: 7.6+ MB\n"
     ]
    }
   ],
   "source": [
    "df_negocio.info()"
   ]
  },
  {
   "cell_type": "markdown",
   "id": "458d7c17",
   "metadata": {},
   "source": [
    "##### Llamo al dataFrame para observar los cambios a simple vista "
   ]
  },
  {
   "cell_type": "code",
   "execution_count": 35,
   "id": "bdae5898",
   "metadata": {
    "scrolled": false
   },
   "outputs": [
    {
     "data": {
      "text/html": [
       "<div>\n",
       "<style scoped>\n",
       "    .dataframe tbody tr th:only-of-type {\n",
       "        vertical-align: middle;\n",
       "    }\n",
       "\n",
       "    .dataframe tbody tr th {\n",
       "        vertical-align: top;\n",
       "    }\n",
       "\n",
       "    .dataframe thead th {\n",
       "        text-align: right;\n",
       "    }\n",
       "</style>\n",
       "<table border=\"1\" class=\"dataframe\">\n",
       "  <thead>\n",
       "    <tr style=\"text-align: right;\">\n",
       "      <th></th>\n",
       "      <th>invoice_no</th>\n",
       "      <th>category</th>\n",
       "      <th>quantity</th>\n",
       "      <th>price</th>\n",
       "      <th>invoice_date</th>\n",
       "      <th>shopping_mall</th>\n",
       "      <th>gender</th>\n",
       "      <th>age</th>\n",
       "      <th>payment_method</th>\n",
       "    </tr>\n",
       "    <tr>\n",
       "      <th>customer_id</th>\n",
       "      <th></th>\n",
       "      <th></th>\n",
       "      <th></th>\n",
       "      <th></th>\n",
       "      <th></th>\n",
       "      <th></th>\n",
       "      <th></th>\n",
       "      <th></th>\n",
       "      <th></th>\n",
       "    </tr>\n",
       "  </thead>\n",
       "  <tbody>\n",
       "    <tr>\n",
       "      <th>C241288</th>\n",
       "      <td>I138884</td>\n",
       "      <td>Clothing</td>\n",
       "      <td>5</td>\n",
       "      <td>1500.40</td>\n",
       "      <td>2022-08-05</td>\n",
       "      <td>Kanyon</td>\n",
       "      <td>Female</td>\n",
       "      <td>28</td>\n",
       "      <td>Credit Card</td>\n",
       "    </tr>\n",
       "    <tr>\n",
       "      <th>C111565</th>\n",
       "      <td>I317333</td>\n",
       "      <td>Shoes</td>\n",
       "      <td>3</td>\n",
       "      <td>1800.51</td>\n",
       "      <td>2021-12-12</td>\n",
       "      <td>Forum Istanbul</td>\n",
       "      <td>Male</td>\n",
       "      <td>21</td>\n",
       "      <td>Debit Card</td>\n",
       "    </tr>\n",
       "    <tr>\n",
       "      <th>C266599</th>\n",
       "      <td>I127801</td>\n",
       "      <td>Clothing</td>\n",
       "      <td>1</td>\n",
       "      <td>300.08</td>\n",
       "      <td>2021-11-09</td>\n",
       "      <td>Metrocity</td>\n",
       "      <td>Male</td>\n",
       "      <td>20</td>\n",
       "      <td>Cash</td>\n",
       "    </tr>\n",
       "    <tr>\n",
       "      <th>C988172</th>\n",
       "      <td>I173702</td>\n",
       "      <td>Shoes</td>\n",
       "      <td>5</td>\n",
       "      <td>3000.85</td>\n",
       "      <td>2021-05-16</td>\n",
       "      <td>Metropol AVM</td>\n",
       "      <td>Female</td>\n",
       "      <td>66</td>\n",
       "      <td>Credit Card</td>\n",
       "    </tr>\n",
       "    <tr>\n",
       "      <th>C189076</th>\n",
       "      <td>I337046</td>\n",
       "      <td>Books</td>\n",
       "      <td>4</td>\n",
       "      <td>60.60</td>\n",
       "      <td>2021-10-24</td>\n",
       "      <td>Kanyon</td>\n",
       "      <td>Female</td>\n",
       "      <td>53</td>\n",
       "      <td>Cash</td>\n",
       "    </tr>\n",
       "    <tr>\n",
       "      <th>...</th>\n",
       "      <td>...</td>\n",
       "      <td>...</td>\n",
       "      <td>...</td>\n",
       "      <td>...</td>\n",
       "      <td>...</td>\n",
       "      <td>...</td>\n",
       "      <td>...</td>\n",
       "      <td>...</td>\n",
       "      <td>...</td>\n",
       "    </tr>\n",
       "    <tr>\n",
       "      <th>C441542</th>\n",
       "      <td>I219422</td>\n",
       "      <td>Souvenir</td>\n",
       "      <td>5</td>\n",
       "      <td>58.65</td>\n",
       "      <td>2022-09-21</td>\n",
       "      <td>Kanyon</td>\n",
       "      <td>Female</td>\n",
       "      <td>45</td>\n",
       "      <td>Credit Card</td>\n",
       "    </tr>\n",
       "    <tr>\n",
       "      <th>C569580</th>\n",
       "      <td>I325143</td>\n",
       "      <td>Food &amp; Beverage</td>\n",
       "      <td>2</td>\n",
       "      <td>10.46</td>\n",
       "      <td>2021-09-22</td>\n",
       "      <td>Forum Istanbul</td>\n",
       "      <td>Male</td>\n",
       "      <td>27</td>\n",
       "      <td>Cash</td>\n",
       "    </tr>\n",
       "    <tr>\n",
       "      <th>C103292</th>\n",
       "      <td>I824010</td>\n",
       "      <td>Food &amp; Beverage</td>\n",
       "      <td>2</td>\n",
       "      <td>10.46</td>\n",
       "      <td>2021-03-28</td>\n",
       "      <td>Metrocity</td>\n",
       "      <td>Male</td>\n",
       "      <td>63</td>\n",
       "      <td>Debit Card</td>\n",
       "    </tr>\n",
       "    <tr>\n",
       "      <th>C800631</th>\n",
       "      <td>I702964</td>\n",
       "      <td>Technology</td>\n",
       "      <td>4</td>\n",
       "      <td>4200.00</td>\n",
       "      <td>2021-03-16</td>\n",
       "      <td>Istinye Park</td>\n",
       "      <td>Male</td>\n",
       "      <td>56</td>\n",
       "      <td>Cash</td>\n",
       "    </tr>\n",
       "    <tr>\n",
       "      <th>C273973</th>\n",
       "      <td>I232867</td>\n",
       "      <td>Souvenir</td>\n",
       "      <td>3</td>\n",
       "      <td>35.19</td>\n",
       "      <td>2022-10-15</td>\n",
       "      <td>Mall of Istanbul</td>\n",
       "      <td>Female</td>\n",
       "      <td>36</td>\n",
       "      <td>Credit Card</td>\n",
       "    </tr>\n",
       "  </tbody>\n",
       "</table>\n",
       "<p>99457 rows × 9 columns</p>\n",
       "</div>"
      ],
      "text/plain": [
       "            invoice_no         category  quantity    price invoice_date  \\\n",
       "customer_id                                                               \n",
       "C241288        I138884         Clothing         5  1500.40   2022-08-05   \n",
       "C111565        I317333            Shoes         3  1800.51   2021-12-12   \n",
       "C266599        I127801         Clothing         1   300.08   2021-11-09   \n",
       "C988172        I173702            Shoes         5  3000.85   2021-05-16   \n",
       "C189076        I337046            Books         4    60.60   2021-10-24   \n",
       "...                ...              ...       ...      ...          ...   \n",
       "C441542        I219422         Souvenir         5    58.65   2022-09-21   \n",
       "C569580        I325143  Food & Beverage         2    10.46   2021-09-22   \n",
       "C103292        I824010  Food & Beverage         2    10.46   2021-03-28   \n",
       "C800631        I702964       Technology         4  4200.00   2021-03-16   \n",
       "C273973        I232867         Souvenir         3    35.19   2022-10-15   \n",
       "\n",
       "                shopping_mall  gender  age payment_method  \n",
       "customer_id                                                \n",
       "C241288                Kanyon  Female   28    Credit Card  \n",
       "C111565        Forum Istanbul    Male   21     Debit Card  \n",
       "C266599             Metrocity    Male   20           Cash  \n",
       "C988172          Metropol AVM  Female   66    Credit Card  \n",
       "C189076                Kanyon  Female   53           Cash  \n",
       "...                       ...     ...  ...            ...  \n",
       "C441542                Kanyon  Female   45    Credit Card  \n",
       "C569580        Forum Istanbul    Male   27           Cash  \n",
       "C103292             Metrocity    Male   63     Debit Card  \n",
       "C800631          Istinye Park    Male   56           Cash  \n",
       "C273973      Mall of Istanbul  Female   36    Credit Card  \n",
       "\n",
       "[99457 rows x 9 columns]"
      ]
     },
     "execution_count": 35,
     "metadata": {},
     "output_type": "execute_result"
    }
   ],
   "source": [
    "df_negocio"
   ]
  },
  {
   "cell_type": "markdown",
   "id": "d037025e",
   "metadata": {},
   "source": [
    "##### Decido guardar el dataFrame limpio en esta parte del TP ya que a partir de aquí haré consultas. De esta manera me aseguro de tener guardado los datos limpios del dataFrame NEGOCIO en un nuevo archivo"
   ]
  },
  {
   "cell_type": "code",
   "execution_count": 87,
   "id": "5b532146",
   "metadata": {},
   "outputs": [],
   "source": [
    "df_negocio.to_csv(\"negocio_resultado_final.csv\")"
   ]
  },
  {
   "cell_type": "markdown",
   "id": "f310b47a",
   "metadata": {},
   "source": [
    "## A partir de aquí trabajo con un dataFrame limpio y listo para realizar consultas, buscando datos importantes."
   ]
  },
  {
   "cell_type": "markdown",
   "id": "a3ceae19",
   "metadata": {},
   "source": [
    "## 4. Realizar transformaciones adicionales como determinar el modo de pago más frecuente de todos los clientes y a su vez categorizados por género. \n",
    "### Realice una categorización de clientes de acuerdo a su forma de pago (por edad y género).\n",
    "### Métodos de pagos realizados por el rango etario de 25 a 35 años\n",
    "### Métodos de pago más utilizados por las mujeres.\n",
    "### Precios por categoría de productos\n",
    "## 5. Documentar las transformaciones realizadas en detalle y explicar su justificación."
   ]
  },
  {
   "cell_type": "markdown",
   "id": "4014409b",
   "metadata": {},
   "source": [
    "##### Modo de pago más frecuentes de todos los clientes "
   ]
  },
  {
   "cell_type": "code",
   "execution_count": 37,
   "id": "6db0204e",
   "metadata": {},
   "outputs": [
    {
     "data": {
      "text/plain": [
       "Cash           44447\n",
       "Credit Card    34931\n",
       "Debit Card     20079\n",
       "Name: payment_method, dtype: int64"
      ]
     },
     "execution_count": 37,
     "metadata": {},
     "output_type": "execute_result"
    }
   ],
   "source": [
    "df_negocio['payment_method'].value_counts(dropna=False)"
   ]
  },
  {
   "cell_type": "markdown",
   "id": "4cf534dc",
   "metadata": {},
   "source": [
    "### Se muestra un gráfico para visualizar los métodos de pagos más utilizados por los clientes"
   ]
  },
  {
   "cell_type": "code",
   "execution_count": 38,
   "id": "8e0a4537",
   "metadata": {
    "scrolled": false
   },
   "outputs": [
    {
     "data": {
      "image/png": "[encoded data removed]",
      "text/plain": [
       "<Figure size 640x480 with 1 Axes>"
      ]
     },
     "metadata": {},
     "output_type": "display_data"
    }
   ],
   "source": [
    "sns.countplot(x='payment_method', data = df_negocio)\n",
    "plt.show()"
   ]
  },
  {
   "cell_type": "markdown",
   "id": "db04668a",
   "metadata": {},
   "source": [
    "##### Podemos observar el método de pago por genero "
   ]
  },
  {
   "cell_type": "code",
   "execution_count": 39,
   "id": "d4f71a16",
   "metadata": {},
   "outputs": [
    {
     "data": {
      "text/plain": [
       "payment_method  gender\n",
       "Cash            Female    26509\n",
       "                Male      17938\n",
       "Credit Card     Female    21011\n",
       "                Male      13920\n",
       "Debit Card      Female    11962\n",
       "                Male       8117\n",
       "Name: gender, dtype: int64"
      ]
     },
     "execution_count": 39,
     "metadata": {},
     "output_type": "execute_result"
    }
   ],
   "source": [
    "pago_genero = df_negocio.groupby(['payment_method'])['gender'].value_counts()\n",
    "pago_genero"
   ]
  },
  {
   "cell_type": "markdown",
   "id": "0a58d7ec",
   "metadata": {},
   "source": [
    "##### Realizo un gráfico de la categorización de método de pago por genero "
   ]
  },
  {
   "cell_type": "code",
   "execution_count": 40,
   "id": "c39bf0b8",
   "metadata": {},
   "outputs": [
    {
     "data": {
      "image/png": "[encoded data removed]",
      "text/plain": [
       "<Figure size 640x480 with 1 Axes>"
      ]
     },
     "metadata": {},
     "output_type": "display_data"
    }
   ],
   "source": [
    "sns.countplot(x='payment_method', hue='gender', data = df_negocio)\n",
    "plt.show()"
   ]
  },
  {
   "cell_type": "markdown",
   "id": "3be29c43",
   "metadata": {},
   "source": [
    "##### Observando estos datos entiendo que hay más clientes mujeres que hombres, voy a chequear esa información con la cantidad exacta --"
   ]
  },
  {
   "cell_type": "code",
   "execution_count": 41,
   "id": "0104c15f",
   "metadata": {},
   "outputs": [
    {
     "data": {
      "text/plain": [
       "Female    59482\n",
       "Male      39975\n",
       "Name: gender, dtype: int64"
      ]
     },
     "execution_count": 41,
     "metadata": {},
     "output_type": "execute_result"
    }
   ],
   "source": [
    "df_negocio.gender.value_counts()"
   ]
  },
  {
   "cell_type": "markdown",
   "id": "dae047cd",
   "metadata": {},
   "source": [
    "##### Realizo una observación de método de pago por edad y en este caso separado por género también "
   ]
  },
  {
   "cell_type": "code",
   "execution_count": 42,
   "id": "e58ee122",
   "metadata": {},
   "outputs": [
    {
     "name": "stderr",
     "output_type": "stream",
     "text": [
      "C:\\Users\\prisc\\AppData\\Local\\Temp\\ipykernel_11952\\526209621.py:1: FutureWarning: Indexing with multiple keys (implicitly converted to a tuple of keys) will be deprecated, use a list instead.\n",
      "  pago_edad = df_negocio.groupby(['payment_method'])['age','gender'].value_counts()\n"
     ]
    },
    {
     "data": {
      "text/plain": [
       "payment_method  age  gender\n",
       "Cash            37   Female    585\n",
       "                64   Female    563\n",
       "                40   Female    551\n",
       "                44   Female    550\n",
       "                36   Female    546\n",
       "                              ... \n",
       "Debit Card      20   Male      141\n",
       "                64   Male      139\n",
       "                32   Male      137\n",
       "                40   Male      136\n",
       "                44   Male      134\n",
       "Length: 312, dtype: int64"
      ]
     },
     "execution_count": 42,
     "metadata": {},
     "output_type": "execute_result"
    }
   ],
   "source": [
    "pago_edad = df_negocio.groupby(['payment_method'])['age','gender'].value_counts()\n",
    "pago_edad"
   ]
  },
  {
   "cell_type": "markdown",
   "id": "8505eb09",
   "metadata": {},
   "source": [
    "##### Aquí guardo la información de método de pago, edad y género en un nuevo dataFrame para poder trabajar con estos datos de manera aislada sin modificar el df_negocio --"
   ]
  },
  {
   "cell_type": "code",
   "execution_count": 43,
   "id": "013aaa4a",
   "metadata": {},
   "outputs": [
    {
     "data": {
      "text/html": [
       "<div>\n",
       "<style scoped>\n",
       "    .dataframe tbody tr th:only-of-type {\n",
       "        vertical-align: middle;\n",
       "    }\n",
       "\n",
       "    .dataframe tbody tr th {\n",
       "        vertical-align: top;\n",
       "    }\n",
       "\n",
       "    .dataframe thead th {\n",
       "        text-align: right;\n",
       "    }\n",
       "</style>\n",
       "<table border=\"1\" class=\"dataframe\">\n",
       "  <thead>\n",
       "    <tr style=\"text-align: right;\">\n",
       "      <th></th>\n",
       "      <th>payment_method</th>\n",
       "      <th>age</th>\n",
       "      <th>gender</th>\n",
       "    </tr>\n",
       "    <tr>\n",
       "      <th>customer_id</th>\n",
       "      <th></th>\n",
       "      <th></th>\n",
       "      <th></th>\n",
       "    </tr>\n",
       "  </thead>\n",
       "  <tbody>\n",
       "    <tr>\n",
       "      <th>C241288</th>\n",
       "      <td>Credit Card</td>\n",
       "      <td>28</td>\n",
       "      <td>Female</td>\n",
       "    </tr>\n",
       "    <tr>\n",
       "      <th>C111565</th>\n",
       "      <td>Debit Card</td>\n",
       "      <td>21</td>\n",
       "      <td>Male</td>\n",
       "    </tr>\n",
       "    <tr>\n",
       "      <th>C266599</th>\n",
       "      <td>Cash</td>\n",
       "      <td>20</td>\n",
       "      <td>Male</td>\n",
       "    </tr>\n",
       "    <tr>\n",
       "      <th>C988172</th>\n",
       "      <td>Credit Card</td>\n",
       "      <td>66</td>\n",
       "      <td>Female</td>\n",
       "    </tr>\n",
       "    <tr>\n",
       "      <th>C189076</th>\n",
       "      <td>Cash</td>\n",
       "      <td>53</td>\n",
       "      <td>Female</td>\n",
       "    </tr>\n",
       "    <tr>\n",
       "      <th>...</th>\n",
       "      <td>...</td>\n",
       "      <td>...</td>\n",
       "      <td>...</td>\n",
       "    </tr>\n",
       "    <tr>\n",
       "      <th>C441542</th>\n",
       "      <td>Credit Card</td>\n",
       "      <td>45</td>\n",
       "      <td>Female</td>\n",
       "    </tr>\n",
       "    <tr>\n",
       "      <th>C569580</th>\n",
       "      <td>Cash</td>\n",
       "      <td>27</td>\n",
       "      <td>Male</td>\n",
       "    </tr>\n",
       "    <tr>\n",
       "      <th>C103292</th>\n",
       "      <td>Debit Card</td>\n",
       "      <td>63</td>\n",
       "      <td>Male</td>\n",
       "    </tr>\n",
       "    <tr>\n",
       "      <th>C800631</th>\n",
       "      <td>Cash</td>\n",
       "      <td>56</td>\n",
       "      <td>Male</td>\n",
       "    </tr>\n",
       "    <tr>\n",
       "      <th>C273973</th>\n",
       "      <td>Credit Card</td>\n",
       "      <td>36</td>\n",
       "      <td>Female</td>\n",
       "    </tr>\n",
       "  </tbody>\n",
       "</table>\n",
       "<p>99457 rows × 3 columns</p>\n",
       "</div>"
      ],
      "text/plain": [
       "            payment_method  age  gender\n",
       "customer_id                            \n",
       "C241288        Credit Card   28  Female\n",
       "C111565         Debit Card   21    Male\n",
       "C266599               Cash   20    Male\n",
       "C988172        Credit Card   66  Female\n",
       "C189076               Cash   53  Female\n",
       "...                    ...  ...     ...\n",
       "C441542        Credit Card   45  Female\n",
       "C569580               Cash   27    Male\n",
       "C103292         Debit Card   63    Male\n",
       "C800631               Cash   56    Male\n",
       "C273973        Credit Card   36  Female\n",
       "\n",
       "[99457 rows x 3 columns]"
      ]
     },
     "execution_count": 43,
     "metadata": {},
     "output_type": "execute_result"
    }
   ],
   "source": [
    "filtro_mp = df_negocio[['payment_method','age', 'gender']]\n",
    "filtro_mp"
   ]
  },
  {
   "cell_type": "markdown",
   "id": "9ac334e0",
   "metadata": {},
   "source": [
    "##### Aquí busco la edad menor y la edad mayor del dataFrame"
   ]
  },
  {
   "cell_type": "code",
   "execution_count": 44,
   "id": "52287425",
   "metadata": {},
   "outputs": [
    {
     "data": {
      "text/plain": [
       "18"
      ]
     },
     "execution_count": 44,
     "metadata": {},
     "output_type": "execute_result"
    }
   ],
   "source": [
    "df_negocio['age'].min()"
   ]
  },
  {
   "cell_type": "code",
   "execution_count": 45,
   "id": "115b44aa",
   "metadata": {},
   "outputs": [
    {
     "data": {
      "text/plain": [
       "69"
      ]
     },
     "execution_count": 45,
     "metadata": {},
     "output_type": "execute_result"
    }
   ],
   "source": [
    "df_negocio['age'].max()"
   ]
  },
  {
   "cell_type": "markdown",
   "id": "1b44652f",
   "metadata": {},
   "source": [
    "##### Para poder graficar las elecciones de *métodos de pagos* por *edades*, decido dividir y segmentarlas en 3 categorias; \"young_adult\" que corresponde a las edades de 18 a 30, \"adult\" que corresponde a las edades de 31 a 49 y \"older_adult\" que contiene las edades de 50 a 69 años"
   ]
  },
  {
   "cell_type": "code",
   "execution_count": 49,
   "id": "93a225ee",
   "metadata": {},
   "outputs": [],
   "source": [
    "filtro_mp.loc[filtro_mp['age']<=30, 'age_group'] = 'young_adult'"
   ]
  },
  {
   "cell_type": "code",
   "execution_count": 47,
   "id": "6248460b",
   "metadata": {},
   "outputs": [],
   "source": [
    "filtro_mp.loc[filtro_mp['age']>=31, 'age_group'] = 'adult'"
   ]
  },
  {
   "cell_type": "code",
   "execution_count": 48,
   "id": "f0b4083e",
   "metadata": {},
   "outputs": [],
   "source": [
    "filtro_mp.loc[filtro_mp['age']>=50, 'age_group'] = 'older_adult'"
   ]
  },
  {
   "cell_type": "code",
   "execution_count": 50,
   "id": "25545c67",
   "metadata": {},
   "outputs": [
    {
     "data": {
      "text/html": [
       "<div>\n",
       "<style scoped>\n",
       "    .dataframe tbody tr th:only-of-type {\n",
       "        vertical-align: middle;\n",
       "    }\n",
       "\n",
       "    .dataframe tbody tr th {\n",
       "        vertical-align: top;\n",
       "    }\n",
       "\n",
       "    .dataframe thead th {\n",
       "        text-align: right;\n",
       "    }\n",
       "</style>\n",
       "<table border=\"1\" class=\"dataframe\">\n",
       "  <thead>\n",
       "    <tr style=\"text-align: right;\">\n",
       "      <th></th>\n",
       "      <th>payment_method</th>\n",
       "      <th>age</th>\n",
       "      <th>gender</th>\n",
       "      <th>age_group</th>\n",
       "    </tr>\n",
       "    <tr>\n",
       "      <th>customer_id</th>\n",
       "      <th></th>\n",
       "      <th></th>\n",
       "      <th></th>\n",
       "      <th></th>\n",
       "    </tr>\n",
       "  </thead>\n",
       "  <tbody>\n",
       "    <tr>\n",
       "      <th>C241288</th>\n",
       "      <td>Credit Card</td>\n",
       "      <td>28</td>\n",
       "      <td>Female</td>\n",
       "      <td>young_adult</td>\n",
       "    </tr>\n",
       "    <tr>\n",
       "      <th>C111565</th>\n",
       "      <td>Debit Card</td>\n",
       "      <td>21</td>\n",
       "      <td>Male</td>\n",
       "      <td>young_adult</td>\n",
       "    </tr>\n",
       "    <tr>\n",
       "      <th>C266599</th>\n",
       "      <td>Cash</td>\n",
       "      <td>20</td>\n",
       "      <td>Male</td>\n",
       "      <td>young_adult</td>\n",
       "    </tr>\n",
       "    <tr>\n",
       "      <th>C988172</th>\n",
       "      <td>Credit Card</td>\n",
       "      <td>66</td>\n",
       "      <td>Female</td>\n",
       "      <td>older_adult</td>\n",
       "    </tr>\n",
       "    <tr>\n",
       "      <th>C189076</th>\n",
       "      <td>Cash</td>\n",
       "      <td>53</td>\n",
       "      <td>Female</td>\n",
       "      <td>older_adult</td>\n",
       "    </tr>\n",
       "    <tr>\n",
       "      <th>...</th>\n",
       "      <td>...</td>\n",
       "      <td>...</td>\n",
       "      <td>...</td>\n",
       "      <td>...</td>\n",
       "    </tr>\n",
       "    <tr>\n",
       "      <th>C441542</th>\n",
       "      <td>Credit Card</td>\n",
       "      <td>45</td>\n",
       "      <td>Female</td>\n",
       "      <td>adult</td>\n",
       "    </tr>\n",
       "    <tr>\n",
       "      <th>C569580</th>\n",
       "      <td>Cash</td>\n",
       "      <td>27</td>\n",
       "      <td>Male</td>\n",
       "      <td>young_adult</td>\n",
       "    </tr>\n",
       "    <tr>\n",
       "      <th>C103292</th>\n",
       "      <td>Debit Card</td>\n",
       "      <td>63</td>\n",
       "      <td>Male</td>\n",
       "      <td>older_adult</td>\n",
       "    </tr>\n",
       "    <tr>\n",
       "      <th>C800631</th>\n",
       "      <td>Cash</td>\n",
       "      <td>56</td>\n",
       "      <td>Male</td>\n",
       "      <td>older_adult</td>\n",
       "    </tr>\n",
       "    <tr>\n",
       "      <th>C273973</th>\n",
       "      <td>Credit Card</td>\n",
       "      <td>36</td>\n",
       "      <td>Female</td>\n",
       "      <td>adult</td>\n",
       "    </tr>\n",
       "  </tbody>\n",
       "</table>\n",
       "<p>99457 rows × 4 columns</p>\n",
       "</div>"
      ],
      "text/plain": [
       "            payment_method  age  gender    age_group\n",
       "customer_id                                         \n",
       "C241288        Credit Card   28  Female  young_adult\n",
       "C111565         Debit Card   21    Male  young_adult\n",
       "C266599               Cash   20    Male  young_adult\n",
       "C988172        Credit Card   66  Female  older_adult\n",
       "C189076               Cash   53  Female  older_adult\n",
       "...                    ...  ...     ...          ...\n",
       "C441542        Credit Card   45  Female        adult\n",
       "C569580               Cash   27    Male  young_adult\n",
       "C103292         Debit Card   63    Male  older_adult\n",
       "C800631               Cash   56    Male  older_adult\n",
       "C273973        Credit Card   36  Female        adult\n",
       "\n",
       "[99457 rows x 4 columns]"
      ]
     },
     "execution_count": 50,
     "metadata": {},
     "output_type": "execute_result"
    }
   ],
   "source": [
    "filtro_mp"
   ]
  },
  {
   "cell_type": "markdown",
   "id": "d2586fbd",
   "metadata": {},
   "source": [
    "##### De esta manera es posible realizar un gráfico que muestre las elecciones de pagos de los diferentes grupos etarios"
   ]
  },
  {
   "cell_type": "code",
   "execution_count": 51,
   "id": "647c7ed7",
   "metadata": {},
   "outputs": [
    {
     "data": {
      "image/png": "[encoded data removed]",
      "text/plain": [
       "<Figure size 640x480 with 1 Axes>"
      ]
     },
     "metadata": {},
     "output_type": "display_data"
    }
   ],
   "source": [
    "sns.countplot(x='payment_method', hue='age_group', data = filtro_mp)\n",
    "plt.show()"
   ]
  },
  {
   "cell_type": "markdown",
   "id": "4bf7eb9e",
   "metadata": {},
   "source": []
  },
  {
   "cell_type": "markdown",
   "id": "38cd7563",
   "metadata": {},
   "source": [
    "##### Observo la cantidad personas de los diferentes grupos etarios"
   ]
  },
  {
   "cell_type": "code",
   "execution_count": 52,
   "id": "264168f4",
   "metadata": {},
   "outputs": [
    {
     "data": {
      "text/plain": [
       "older_adult    37925\n",
       "adult          36537\n",
       "young_adult    24995\n",
       "Name: age_group, dtype: int64"
      ]
     },
     "execution_count": 52,
     "metadata": {},
     "output_type": "execute_result"
    }
   ],
   "source": [
    "filtro_mp['age_group'].value_counts() "
   ]
  },
  {
   "cell_type": "markdown",
   "id": "a2172da9",
   "metadata": {},
   "source": [
    " ## Métodos de pagos realizados por el rango etario de 25 a 35 años"
   ]
  },
  {
   "cell_type": "code",
   "execution_count": 53,
   "id": "1077ad13",
   "metadata": {},
   "outputs": [
    {
     "data": {
      "text/html": [
       "<div>\n",
       "<style scoped>\n",
       "    .dataframe tbody tr th:only-of-type {\n",
       "        vertical-align: middle;\n",
       "    }\n",
       "\n",
       "    .dataframe tbody tr th {\n",
       "        vertical-align: top;\n",
       "    }\n",
       "\n",
       "    .dataframe thead th {\n",
       "        text-align: right;\n",
       "    }\n",
       "</style>\n",
       "<table border=\"1\" class=\"dataframe\">\n",
       "  <thead>\n",
       "    <tr style=\"text-align: right;\">\n",
       "      <th></th>\n",
       "      <th>payment_method</th>\n",
       "      <th>age</th>\n",
       "      <th>gender</th>\n",
       "      <th>age_group</th>\n",
       "    </tr>\n",
       "    <tr>\n",
       "      <th>customer_id</th>\n",
       "      <th></th>\n",
       "      <th></th>\n",
       "      <th></th>\n",
       "      <th></th>\n",
       "    </tr>\n",
       "  </thead>\n",
       "  <tbody>\n",
       "    <tr>\n",
       "      <th>C241288</th>\n",
       "      <td>Credit Card</td>\n",
       "      <td>28</td>\n",
       "      <td>Female</td>\n",
       "      <td>young_adult</td>\n",
       "    </tr>\n",
       "    <tr>\n",
       "      <th>C657758</th>\n",
       "      <td>Credit Card</td>\n",
       "      <td>28</td>\n",
       "      <td>Female</td>\n",
       "      <td>young_adult</td>\n",
       "    </tr>\n",
       "    <tr>\n",
       "      <th>C176086</th>\n",
       "      <td>Credit Card</td>\n",
       "      <td>32</td>\n",
       "      <td>Female</td>\n",
       "      <td>adult</td>\n",
       "    </tr>\n",
       "    <tr>\n",
       "      <th>C191708</th>\n",
       "      <td>Credit Card</td>\n",
       "      <td>29</td>\n",
       "      <td>Female</td>\n",
       "      <td>young_adult</td>\n",
       "    </tr>\n",
       "    <tr>\n",
       "      <th>C312861</th>\n",
       "      <td>Cash</td>\n",
       "      <td>25</td>\n",
       "      <td>Male</td>\n",
       "      <td>young_adult</td>\n",
       "    </tr>\n",
       "    <tr>\n",
       "      <th>...</th>\n",
       "      <td>...</td>\n",
       "      <td>...</td>\n",
       "      <td>...</td>\n",
       "      <td>...</td>\n",
       "    </tr>\n",
       "    <tr>\n",
       "      <th>C142643</th>\n",
       "      <td>Credit Card</td>\n",
       "      <td>28</td>\n",
       "      <td>Male</td>\n",
       "      <td>young_adult</td>\n",
       "    </tr>\n",
       "    <tr>\n",
       "      <th>C270290</th>\n",
       "      <td>Cash</td>\n",
       "      <td>35</td>\n",
       "      <td>Female</td>\n",
       "      <td>adult</td>\n",
       "    </tr>\n",
       "    <tr>\n",
       "      <th>C107209</th>\n",
       "      <td>Cash</td>\n",
       "      <td>32</td>\n",
       "      <td>Female</td>\n",
       "      <td>adult</td>\n",
       "    </tr>\n",
       "    <tr>\n",
       "      <th>C226974</th>\n",
       "      <td>Cash</td>\n",
       "      <td>28</td>\n",
       "      <td>Female</td>\n",
       "      <td>young_adult</td>\n",
       "    </tr>\n",
       "    <tr>\n",
       "      <th>C569580</th>\n",
       "      <td>Cash</td>\n",
       "      <td>27</td>\n",
       "      <td>Male</td>\n",
       "      <td>young_adult</td>\n",
       "    </tr>\n",
       "  </tbody>\n",
       "</table>\n",
       "<p>20893 rows × 4 columns</p>\n",
       "</div>"
      ],
      "text/plain": [
       "            payment_method  age  gender    age_group\n",
       "customer_id                                         \n",
       "C241288        Credit Card   28  Female  young_adult\n",
       "C657758        Credit Card   28  Female  young_adult\n",
       "C176086        Credit Card   32  Female        adult\n",
       "C191708        Credit Card   29  Female  young_adult\n",
       "C312861               Cash   25    Male  young_adult\n",
       "...                    ...  ...     ...          ...\n",
       "C142643        Credit Card   28    Male  young_adult\n",
       "C270290               Cash   35  Female        adult\n",
       "C107209               Cash   32  Female        adult\n",
       "C226974               Cash   28  Female  young_adult\n",
       "C569580               Cash   27    Male  young_adult\n",
       "\n",
       "[20893 rows x 4 columns]"
      ]
     },
     "execution_count": 53,
     "metadata": {},
     "output_type": "execute_result"
    }
   ],
   "source": [
    "rango = filtro_mp[(filtro_mp['age'] <= 35) & (filtro_mp['age'] >= 25)]\n",
    "rango"
   ]
  },
  {
   "cell_type": "markdown",
   "id": "b07b1831",
   "metadata": {},
   "source": [
    "##### Gráfico con elección de métodos de pagos por edades de el rango de 25 a 35 años."
   ]
  },
  {
   "cell_type": "code",
   "execution_count": 54,
   "id": "a83a03e8",
   "metadata": {},
   "outputs": [
    {
     "data": {
      "image/png": "[encoded data removed]",
      "text/plain": [
       "<Figure size 640x480 with 1 Axes>"
      ]
     },
     "metadata": {},
     "output_type": "display_data"
    }
   ],
   "source": [
    "sns.countplot(x='payment_method', hue='age', data = rango, palette=\"Dark2\")\n",
    "plt.show()\n"
   ]
  },
  {
   "cell_type": "markdown",
   "id": "ce69c119",
   "metadata": {},
   "source": [
    "###### Aquí observamos la cantidad de clientes y su elección por edades del rango de 25 a 35 años del método de pago "
   ]
  },
  {
   "cell_type": "code",
   "execution_count": 55,
   "id": "ae91149f",
   "metadata": {},
   "outputs": [
    {
     "data": {
      "text/plain": [
       "payment_method  age\n",
       "Cash            26     893\n",
       "                33     875\n",
       "                27     874\n",
       "                28     871\n",
       "                32     858\n",
       "                30     853\n",
       "                29     845\n",
       "                25     842\n",
       "                34     827\n",
       "                31     821\n",
       "                35     797\n",
       "Credit Card     30     731\n",
       "                27     694\n",
       "                33     669\n",
       "                28     668\n",
       "                31     667\n",
       "                29     658\n",
       "                34     657\n",
       "                35     656\n",
       "                32     639\n",
       "                25     627\n",
       "                26     608\n",
       "Debit Card      28     412\n",
       "                34     397\n",
       "                30     394\n",
       "                32     394\n",
       "                26     393\n",
       "                25     390\n",
       "                35     387\n",
       "                27     380\n",
       "                29     378\n",
       "                31     374\n",
       "                33     364\n",
       "Name: age, dtype: int64"
      ]
     },
     "execution_count": 55,
     "metadata": {},
     "output_type": "execute_result"
    }
   ],
   "source": [
    "pago_rango = rango.groupby(['payment_method'])['age'].value_counts()\n",
    "pago_rango"
   ]
  },
  {
   "cell_type": "markdown",
   "id": "c06f5dce",
   "metadata": {},
   "source": [
    "## Métodos de pago más utilizados por las mujeres.\n"
   ]
  },
  {
   "cell_type": "markdown",
   "id": "ea26332c",
   "metadata": {},
   "source": [
    "##### Como se puede observar en el gráfico utilizado más arriba, que vuelvo a mostrar en esta parte del proyecto, el método más utilizado por mujeres y por hombres es el cash"
   ]
  },
  {
   "cell_type": "code",
   "execution_count": 56,
   "id": "9acd642a",
   "metadata": {},
   "outputs": [
    {
     "data": {
      "image/png": "[encoded data removed]",
      "text/plain": [
       "<Figure size 640x480 with 1 Axes>"
      ]
     },
     "metadata": {},
     "output_type": "display_data"
    }
   ],
   "source": [
    "sns.countplot(x='payment_method', hue='gender', data = df_negocio)\n",
    "plt.show()"
   ]
  },
  {
   "cell_type": "markdown",
   "id": "e5d3684a",
   "metadata": {},
   "source": [
    "## Precios por categoría de productos"
   ]
  },
  {
   "cell_type": "code",
   "execution_count": 57,
   "id": "eb91edc8",
   "metadata": {
    "scrolled": false
   },
   "outputs": [
    {
     "data": {
      "text/plain": [
       "category         price  \n",
       "Books            75.75      1029\n",
       "                 30.30      1008\n",
       "                 45.45      1000\n",
       "                 15.15       985\n",
       "                 60.60       959\n",
       "Clothing         600.16     6950\n",
       "                 1500.40    6940\n",
       "                 900.24     6907\n",
       "                 1200.32    6849\n",
       "                 300.08     6841\n",
       "Cosmetics        121.98     3072\n",
       "                 203.30     3055\n",
       "                 162.64     3010\n",
       "                 40.66      2986\n",
       "                 81.32      2974\n",
       "Food & Beverage  5.23       3002\n",
       "                 15.69      2992\n",
       "                 26.15      2989\n",
       "                 10.46      2909\n",
       "                 20.92      2884\n",
       "Shoes            1200.34    2045\n",
       "                 2400.68    2022\n",
       "                 3000.85    2013\n",
       "                 1800.51    2010\n",
       "                 600.17     1944\n",
       "Souvenir         35.19      1077\n",
       "                 11.73      1024\n",
       "                 58.65       992\n",
       "                 23.46       984\n",
       "                 46.92       922\n",
       "Technology       3150.00    1009\n",
       "                 4200.00    1001\n",
       "                 5250.00    1001\n",
       "                 2100.00    1000\n",
       "                 1050.00     985\n",
       "Toys             107.52     2082\n",
       "                 143.36     2076\n",
       "                 35.84      2000\n",
       "                 179.20     1971\n",
       "                 71.68      1958\n",
       "Name: price, dtype: int64"
      ]
     },
     "execution_count": 57,
     "metadata": {},
     "output_type": "execute_result"
    }
   ],
   "source": [
    "precio_por_categoria = df_negocio.groupby(['category'])['price'].value_counts()\n",
    "precio_por_categoria"
   ]
  },
  {
   "cell_type": "markdown",
   "id": "53ed5580",
   "metadata": {},
   "source": [
    "##### Representeación de la suma total de los gastos a través de los precios por género"
   ]
  },
  {
   "cell_type": "code",
   "execution_count": 58,
   "id": "622b44c2",
   "metadata": {},
   "outputs": [
    {
     "data": {
      "text/plain": [
       "gender\n",
       "Female    40931801.62\n",
       "Male      27619564.29\n",
       "Name: price, dtype: float64"
      ]
     },
     "execution_count": 58,
     "metadata": {},
     "output_type": "execute_result"
    }
   ],
   "source": [
    "df_negocio.groupby('gender')['price'].sum() "
   ]
  },
  {
   "cell_type": "markdown",
   "id": "ed4aceee",
   "metadata": {},
   "source": [
    "##### Filtro los datos de las categorias correspondientes a los distintos centros comerciales."
   ]
  },
  {
   "cell_type": "code",
   "execution_count": 59,
   "id": "feb0302c",
   "metadata": {
    "scrolled": false
   },
   "outputs": [
    {
     "data": {
      "text/plain": [
       "category    shopping_mall    \n",
       "Clothing    Mall of Istanbul     6923\n",
       "            Kanyon               6840\n",
       "            Metrocity            5268\n",
       "            Metropol AVM         3525\n",
       "            Istinye Park         3353\n",
       "                                 ... \n",
       "Books       Viaport Outlet        246\n",
       "Souvenir    Cevahir AVM           240\n",
       "Books       Emaar Square Mall     236\n",
       "Technology  Forum Istanbul        234\n",
       "Souvenir    Viaport Outlet        225\n",
       "Length: 80, dtype: int64"
      ]
     },
     "execution_count": 59,
     "metadata": {},
     "output_type": "execute_result"
    }
   ],
   "source": [
    "centros = df_negocio.filter([\"category\", \"shopping_mall\"]).value_counts()\n",
    "centros"
   ]
  },
  {
   "cell_type": "markdown",
   "id": "54e9097d",
   "metadata": {},
   "source": [
    "##### El gráfico nos muestra las preferencias de las categorias por parte de los centros comerciales"
   ]
  },
  {
   "cell_type": "code",
   "execution_count": 60,
   "id": "91e826ff",
   "metadata": {},
   "outputs": [
    {
     "data": {
      "image/png": "[encoded data removed]",
      "text/plain": [
       "<Figure size 640x480 with 1 Axes>"
      ]
     },
     "metadata": {},
     "output_type": "display_data"
    }
   ],
   "source": [
    "sns.countplot(y='shopping_mall', hue='category', data = df_negocio)\n",
    "plt.show()"
   ]
  },
  {
   "cell_type": "markdown",
   "id": "a1df54de",
   "metadata": {},
   "source": [
    "##### Filtro en base al centro comercial, categoría de producto y la cantidad "
   ]
  },
  {
   "cell_type": "code",
   "execution_count": 61,
   "id": "b7073eff",
   "metadata": {},
   "outputs": [
    {
     "data": {
      "text/plain": [
       "category    shopping_mall      quantity\n",
       "Clothing    Mall of Istanbul   2           1426\n",
       "                               5           1425\n",
       "            Kanyon             1           1400\n",
       "                               5           1380\n",
       "            Mall of Istanbul   3           1375\n",
       "                                           ... \n",
       "Books       Emaar Square Mall  2             39\n",
       "Souvenir    Viaport Outlet     4             39\n",
       "Technology  Forum Istanbul     5             39\n",
       "Souvenir    Zorlu Center       5             38\n",
       "Technology  Cevahir AVM        2             38\n",
       "Length: 400, dtype: int64"
      ]
     },
     "execution_count": 61,
     "metadata": {},
     "output_type": "execute_result"
    }
   ],
   "source": [
    "df_negocio.filter([\"category\", \"shopping_mall\", \"quantity\"]).value_counts(dropna=False)"
   ]
  },
  {
   "cell_type": "code",
   "execution_count": 62,
   "id": "957f6f07",
   "metadata": {},
   "outputs": [
    {
     "data": {
      "text/plain": [
       "invoice_no                    I999994\n",
       "category                         Toys\n",
       "quantity                            5\n",
       "price                          5250.0\n",
       "invoice_date      2023-03-08 00:00:00\n",
       "shopping_mall            Zorlu Center\n",
       "gender                           Male\n",
       "age                                69\n",
       "payment_method             Debit Card\n",
       "dtype: object"
      ]
     },
     "execution_count": 62,
     "metadata": {},
     "output_type": "execute_result"
    }
   ],
   "source": [
    "df_negocio.max()"
   ]
  },
  {
   "cell_type": "markdown",
   "id": "0f083fb7",
   "metadata": {},
   "source": [
    "##### Centros comerciales que más veces aparecen, es decir más compras han hecho"
   ]
  },
  {
   "cell_type": "code",
   "execution_count": 63,
   "id": "b32d0aad",
   "metadata": {
    "scrolled": true
   },
   "outputs": [
    {
     "data": {
      "text/plain": [
       "Mall of Istanbul     19943\n",
       "Kanyon               19823\n",
       "Metrocity            15011\n",
       "Metropol AVM         10161\n",
       "Istinye Park          9781\n",
       "Zorlu Center          5075\n",
       "Cevahir AVM           4991\n",
       "Forum Istanbul        4947\n",
       "Viaport Outlet        4914\n",
       "Emaar Square Mall     4811\n",
       "Name: shopping_mall, dtype: int64"
      ]
     },
     "execution_count": 63,
     "metadata": {},
     "output_type": "execute_result"
    }
   ],
   "source": [
    "df_negocio['shopping_mall'].value_counts(dropna=False)"
   ]
  },
  {
   "cell_type": "markdown",
   "id": "87ebe7e9",
   "metadata": {},
   "source": [
    "##### Categorias más vendidas"
   ]
  },
  {
   "cell_type": "code",
   "execution_count": 64,
   "id": "e0570fa2",
   "metadata": {},
   "outputs": [
    {
     "data": {
      "text/plain": [
       "Clothing           34487\n",
       "Cosmetics          15097\n",
       "Food & Beverage    14776\n",
       "Toys               10087\n",
       "Shoes              10034\n",
       "Souvenir            4999\n",
       "Technology          4996\n",
       "Books               4981\n",
       "Name: category, dtype: int64"
      ]
     },
     "execution_count": 64,
     "metadata": {},
     "output_type": "execute_result"
    }
   ],
   "source": [
    "df_negocio['category'].value_counts(dropna=False)"
   ]
  },
  {
   "cell_type": "markdown",
   "id": "fe55588e",
   "metadata": {},
   "source": [
    "##### Calculo la media de la edad de los hombres y mujeres del dataFrame"
   ]
  },
  {
   "cell_type": "code",
   "execution_count": 65,
   "id": "ed6e46a5",
   "metadata": {},
   "outputs": [
    {
     "data": {
      "text/html": [
       "<div>\n",
       "<style scoped>\n",
       "    .dataframe tbody tr th:only-of-type {\n",
       "        vertical-align: middle;\n",
       "    }\n",
       "\n",
       "    .dataframe tbody tr th {\n",
       "        vertical-align: top;\n",
       "    }\n",
       "\n",
       "    .dataframe thead th {\n",
       "        text-align: right;\n",
       "    }\n",
       "</style>\n",
       "<table border=\"1\" class=\"dataframe\">\n",
       "  <thead>\n",
       "    <tr style=\"text-align: right;\">\n",
       "      <th></th>\n",
       "      <th>mean</th>\n",
       "      <th>std</th>\n",
       "    </tr>\n",
       "    <tr>\n",
       "      <th>gender</th>\n",
       "      <th></th>\n",
       "      <th></th>\n",
       "    </tr>\n",
       "  </thead>\n",
       "  <tbody>\n",
       "    <tr>\n",
       "      <th>Female</th>\n",
       "      <td>43.453364</td>\n",
       "      <td>14.955964</td>\n",
       "    </tr>\n",
       "    <tr>\n",
       "      <th>Male</th>\n",
       "      <td>43.383665</td>\n",
       "      <td>15.016869</td>\n",
       "    </tr>\n",
       "  </tbody>\n",
       "</table>\n",
       "</div>"
      ],
      "text/plain": [
       "             mean        std\n",
       "gender                      \n",
       "Female  43.453364  14.955964\n",
       "Male    43.383665  15.016869"
      ]
     },
     "execution_count": 65,
     "metadata": {},
     "output_type": "execute_result"
    }
   ],
   "source": [
    "df_negocio.groupby('gender')['age'].agg(['mean', 'std']) "
   ]
  },
  {
   "cell_type": "markdown",
   "id": "992c98a6",
   "metadata": {},
   "source": [
    "##### Calculo la media y la desviación estandar entre categorias de producto y precio"
   ]
  },
  {
   "cell_type": "code",
   "execution_count": 66,
   "id": "fbfe2f6b",
   "metadata": {
    "scrolled": false
   },
   "outputs": [
    {
     "data": {
      "text/html": [
       "<div>\n",
       "<style scoped>\n",
       "    .dataframe tbody tr th:only-of-type {\n",
       "        vertical-align: middle;\n",
       "    }\n",
       "\n",
       "    .dataframe tbody tr th {\n",
       "        vertical-align: top;\n",
       "    }\n",
       "\n",
       "    .dataframe thead th {\n",
       "        text-align: right;\n",
       "    }\n",
       "</style>\n",
       "<table border=\"1\" class=\"dataframe\">\n",
       "  <thead>\n",
       "    <tr style=\"text-align: right;\">\n",
       "      <th></th>\n",
       "      <th>mean</th>\n",
       "      <th>std</th>\n",
       "    </tr>\n",
       "    <tr>\n",
       "      <th>category</th>\n",
       "      <th></th>\n",
       "      <th></th>\n",
       "    </tr>\n",
       "  </thead>\n",
       "  <tbody>\n",
       "    <tr>\n",
       "      <th>Books</th>\n",
       "      <td>45.568621</td>\n",
       "      <td>21.492662</td>\n",
       "    </tr>\n",
       "    <tr>\n",
       "      <th>Clothing</th>\n",
       "      <td>901.084021</td>\n",
       "      <td>424.225594</td>\n",
       "    </tr>\n",
       "    <tr>\n",
       "      <th>Cosmetics</th>\n",
       "      <td>122.448626</td>\n",
       "      <td>57.458097</td>\n",
       "    </tr>\n",
       "    <tr>\n",
       "      <th>Food &amp; Beverage</th>\n",
       "      <td>15.671948</td>\n",
       "      <td>7.422176</td>\n",
       "    </tr>\n",
       "    <tr>\n",
       "      <th>Shoes</th>\n",
       "      <td>1807.388568</td>\n",
       "      <td>845.116269</td>\n",
       "    </tr>\n",
       "    <tr>\n",
       "      <th>Souvenir</th>\n",
       "      <td>34.894345</td>\n",
       "      <td>16.564498</td>\n",
       "    </tr>\n",
       "    <tr>\n",
       "      <th>Technology</th>\n",
       "      <td>3156.935548</td>\n",
       "      <td>1481.559805</td>\n",
       "    </tr>\n",
       "    <tr>\n",
       "      <th>Toys</th>\n",
       "      <td>107.733185</td>\n",
       "      <td>50.364844</td>\n",
       "    </tr>\n",
       "  </tbody>\n",
       "</table>\n",
       "</div>"
      ],
      "text/plain": [
       "                        mean          std\n",
       "category                                 \n",
       "Books              45.568621    21.492662\n",
       "Clothing          901.084021   424.225594\n",
       "Cosmetics         122.448626    57.458097\n",
       "Food & Beverage    15.671948     7.422176\n",
       "Shoes            1807.388568   845.116269\n",
       "Souvenir           34.894345    16.564498\n",
       "Technology       3156.935548  1481.559805\n",
       "Toys              107.733185    50.364844"
      ]
     },
     "execution_count": 66,
     "metadata": {},
     "output_type": "execute_result"
    }
   ],
   "source": [
    "df_negocio.groupby('category')['price'].agg(['mean', 'std']) "
   ]
  },
  {
   "cell_type": "markdown",
   "id": "64304ec9",
   "metadata": {},
   "source": [
    "##### Calculo la media y desviacion estandar entre la categoría y cantidad de producto"
   ]
  },
  {
   "cell_type": "code",
   "execution_count": 67,
   "id": "1eec55bd",
   "metadata": {
    "scrolled": true
   },
   "outputs": [
    {
     "data": {
      "text/html": [
       "<div>\n",
       "<style scoped>\n",
       "    .dataframe tbody tr th:only-of-type {\n",
       "        vertical-align: middle;\n",
       "    }\n",
       "\n",
       "    .dataframe tbody tr th {\n",
       "        vertical-align: top;\n",
       "    }\n",
       "\n",
       "    .dataframe thead th {\n",
       "        text-align: right;\n",
       "    }\n",
       "</style>\n",
       "<table border=\"1\" class=\"dataframe\">\n",
       "  <thead>\n",
       "    <tr style=\"text-align: right;\">\n",
       "      <th></th>\n",
       "      <th>mean</th>\n",
       "      <th>std</th>\n",
       "    </tr>\n",
       "    <tr>\n",
       "      <th>category</th>\n",
       "      <th></th>\n",
       "      <th></th>\n",
       "    </tr>\n",
       "  </thead>\n",
       "  <tbody>\n",
       "    <tr>\n",
       "      <th>Books</th>\n",
       "      <td>3.007830</td>\n",
       "      <td>1.418658</td>\n",
       "    </tr>\n",
       "    <tr>\n",
       "      <th>Clothing</th>\n",
       "      <td>3.002813</td>\n",
       "      <td>1.413708</td>\n",
       "    </tr>\n",
       "    <tr>\n",
       "      <th>Cosmetics</th>\n",
       "      <td>3.011525</td>\n",
       "      <td>1.413136</td>\n",
       "    </tr>\n",
       "    <tr>\n",
       "      <th>Food &amp; Beverage</th>\n",
       "      <td>2.996548</td>\n",
       "      <td>1.419154</td>\n",
       "    </tr>\n",
       "    <tr>\n",
       "      <th>Shoes</th>\n",
       "      <td>3.011461</td>\n",
       "      <td>1.408128</td>\n",
       "    </tr>\n",
       "    <tr>\n",
       "      <th>Souvenir</th>\n",
       "      <td>2.974795</td>\n",
       "      <td>1.412148</td>\n",
       "    </tr>\n",
       "    <tr>\n",
       "      <th>Technology</th>\n",
       "      <td>3.006605</td>\n",
       "      <td>1.411009</td>\n",
       "    </tr>\n",
       "    <tr>\n",
       "      <th>Toys</th>\n",
       "      <td>3.005948</td>\n",
       "      <td>1.405269</td>\n",
       "    </tr>\n",
       "  </tbody>\n",
       "</table>\n",
       "</div>"
      ],
      "text/plain": [
       "                     mean       std\n",
       "category                           \n",
       "Books            3.007830  1.418658\n",
       "Clothing         3.002813  1.413708\n",
       "Cosmetics        3.011525  1.413136\n",
       "Food & Beverage  2.996548  1.419154\n",
       "Shoes            3.011461  1.408128\n",
       "Souvenir         2.974795  1.412148\n",
       "Technology       3.006605  1.411009\n",
       "Toys             3.005948  1.405269"
      ]
     },
     "execution_count": 67,
     "metadata": {},
     "output_type": "execute_result"
    }
   ],
   "source": [
    "df_negocio.groupby('category')['quantity'].agg(['mean', 'std']) "
   ]
  },
  {
   "cell_type": "markdown",
   "id": "773e5f6c",
   "metadata": {},
   "source": [
    "##### Información por categoría de productos y cantidad pedidos"
   ]
  },
  {
   "cell_type": "code",
   "execution_count": 68,
   "id": "2272bcbe",
   "metadata": {},
   "outputs": [
    {
     "data": {
      "text/plain": [
       "category         quantity\n",
       "Books            5           1029\n",
       "                 2           1008\n",
       "                 3           1000\n",
       "                 1            985\n",
       "                 4            959\n",
       "Clothing         2           6950\n",
       "                 5           6940\n",
       "                 3           6907\n",
       "                 4           6849\n",
       "                 1           6841\n",
       "Cosmetics        3           3072\n",
       "                 5           3055\n",
       "                 4           3010\n",
       "                 1           2986\n",
       "                 2           2974\n",
       "Food & Beverage  1           3002\n",
       "                 3           2992\n",
       "                 5           2989\n",
       "                 2           2909\n",
       "                 4           2884\n",
       "Shoes            2           2045\n",
       "                 4           2022\n",
       "                 5           2013\n",
       "                 3           2010\n",
       "                 1           1944\n",
       "Souvenir         3           1077\n",
       "                 1           1024\n",
       "                 5            992\n",
       "                 2            984\n",
       "                 4            922\n",
       "Technology       3           1009\n",
       "                 4           1001\n",
       "                 5           1001\n",
       "                 2           1000\n",
       "                 1            985\n",
       "Toys             3           2082\n",
       "                 4           2076\n",
       "                 1           2000\n",
       "                 5           1971\n",
       "                 2           1958\n",
       "Name: quantity, dtype: int64"
      ]
     },
     "execution_count": 68,
     "metadata": {},
     "output_type": "execute_result"
    }
   ],
   "source": [
    "cantidad_por_categoria = df_negocio.groupby(['category'])['quantity'].value_counts()\n",
    "cantidad_por_categoria"
   ]
  },
  {
   "cell_type": "markdown",
   "id": "73d4b9c7",
   "metadata": {},
   "source": [
    "##### Se filtra cantidad de ventas por los años del DataFrame"
   ]
  },
  {
   "cell_type": "code",
   "execution_count": 69,
   "id": "7de996f6",
   "metadata": {},
   "outputs": [
    {
     "data": {
      "text/plain": [
       "2022    45551\n",
       "2021    45382\n",
       "2023     8524\n",
       "Name: invoice_date, dtype: int64"
      ]
     },
     "execution_count": 69,
     "metadata": {},
     "output_type": "execute_result"
    }
   ],
   "source": [
    "df_negocio.invoice_date.dt.year.value_counts()"
   ]
  },
  {
   "cell_type": "markdown",
   "id": "d7afc3db",
   "metadata": {},
   "source": [
    "##### Se filtra las ventas por los meses del DataFrame"
   ]
  },
  {
   "cell_type": "code",
   "execution_count": 70,
   "id": "01c2e179",
   "metadata": {},
   "outputs": [
    {
     "data": {
      "text/plain": [
       "1     11608\n",
       "2     10482\n",
       "3      8730\n",
       "7      7877\n",
       "10     7764\n",
       "5      7697\n",
       "12     7680\n",
       "8      7635\n",
       "6      7581\n",
       "11     7563\n",
       "4      7487\n",
       "9      7353\n",
       "Name: invoice_date, dtype: int64"
      ]
     },
     "execution_count": 70,
     "metadata": {},
     "output_type": "execute_result"
    }
   ],
   "source": [
    "df_negocio.invoice_date.dt.month.value_counts()"
   ]
  },
  {
   "cell_type": "markdown",
   "id": "e1747449",
   "metadata": {},
   "source": [
    "##### El gráfico muestra las categorias elegidas por los diferentes géneros"
   ]
  },
  {
   "cell_type": "code",
   "execution_count": 71,
   "id": "cb5af1ea",
   "metadata": {},
   "outputs": [
    {
     "data": {
      "image/png": "[encoded data removed]",
      "text/plain": [
       "<Figure size 640x480 with 1 Axes>"
      ]
     },
     "metadata": {},
     "output_type": "display_data"
    }
   ],
   "source": [
    "sns.countplot(y='category', hue='gender', data = df_negocio)\n",
    "plt.show()"
   ]
  },
  {
   "cell_type": "markdown",
   "id": "159ba81d",
   "metadata": {},
   "source": [
    "##### Distribución de las categorias por género"
   ]
  },
  {
   "cell_type": "code",
   "execution_count": 72,
   "id": "88f1bd4a",
   "metadata": {},
   "outputs": [
    {
     "data": {
      "text/plain": [
       "category         gender\n",
       "Books            Female     2906\n",
       "                 Male       2075\n",
       "Clothing         Female    20652\n",
       "                 Male      13835\n",
       "Cosmetics        Female     9070\n",
       "                 Male       6027\n",
       "Food & Beverage  Female     8804\n",
       "                 Male       5972\n",
       "Shoes            Female     5967\n",
       "                 Male       4067\n",
       "Souvenir         Female     3017\n",
       "                 Male       1982\n",
       "Technology       Female     2981\n",
       "                 Male       2015\n",
       "Toys             Female     6085\n",
       "                 Male       4002\n",
       "Name: gender, dtype: int64"
      ]
     },
     "execution_count": 72,
     "metadata": {},
     "output_type": "execute_result"
    }
   ],
   "source": [
    "categoria_por_genero = df_negocio.groupby(['category'])['gender'].value_counts(dropna=False)\n",
    "categoria_por_genero"
   ]
  },
  {
   "cell_type": "markdown",
   "id": "1843e5b6",
   "metadata": {},
   "source": [
    "##### Distribución de los shopping por género"
   ]
  },
  {
   "cell_type": "code",
   "execution_count": 73,
   "id": "a5f42610",
   "metadata": {},
   "outputs": [
    {
     "data": {
      "text/plain": [
       "shopping_mall      gender\n",
       "Kanyon             Female    11906\n",
       "Mall of Istanbul   Female    11902\n",
       "Metrocity          Female     8941\n",
       "Mall of Istanbul   Male       8041\n",
       "Kanyon             Male       7917\n",
       "Metropol AVM       Female     6144\n",
       "Metrocity          Male       6070\n",
       "Istinye Park       Female     5874\n",
       "Metropol AVM       Male       4017\n",
       "Istinye Park       Male       3907\n",
       "Forum Istanbul     Female     3016\n",
       "Zorlu Center       Female     2968\n",
       "Viaport Outlet     Female     2949\n",
       "Cevahir AVM        Female     2940\n",
       "Emaar Square Mall  Female     2842\n",
       "Zorlu Center       Male       2107\n",
       "Cevahir AVM        Male       2051\n",
       "Emaar Square Mall  Male       1969\n",
       "Viaport Outlet     Male       1965\n",
       "Forum Istanbul     Male       1931\n",
       "dtype: int64"
      ]
     },
     "execution_count": 73,
     "metadata": {},
     "output_type": "execute_result"
    }
   ],
   "source": [
    "shopping_por_genero = df_negocio.filter([\"shopping_mall\", \"gender\"]).value_counts(dropna=False)\n",
    "shopping_por_genero"
   ]
  },
  {
   "cell_type": "markdown",
   "id": "a69f5069",
   "metadata": {},
   "source": [
    "##### Distribución de los shooping por género"
   ]
  },
  {
   "cell_type": "code",
   "execution_count": 74,
   "id": "c82b30f3",
   "metadata": {
    "scrolled": false
   },
   "outputs": [
    {
     "data": {
      "image/png": "[encoded data removed]",
      "text/plain": [
       "<Figure size 640x480 with 1 Axes>"
      ]
     },
     "metadata": {},
     "output_type": "display_data"
    }
   ],
   "source": [
    "sns.countplot(y='shopping_mall', hue='gender', data = df_negocio)\n",
    "plt.show()"
   ]
  },
  {
   "cell_type": "markdown",
   "id": "45eca7bf",
   "metadata": {},
   "source": [
    "##### Compruebo si se repite algún cliente a través del id"
   ]
  },
  {
   "cell_type": "code",
   "execution_count": 75,
   "id": "5967d547",
   "metadata": {},
   "outputs": [
    {
     "data": {
      "text/plain": [
       "customer_id\n",
       "C241288    0\n",
       "C111565    0\n",
       "C266599    0\n",
       "C988172    0\n",
       "C189076    0\n",
       "          ..\n",
       "C441542    0\n",
       "C569580    0\n",
       "C103292    0\n",
       "C800631    0\n",
       "C273973    0\n",
       "Length: 99457, dtype: int64"
      ]
     },
     "execution_count": 75,
     "metadata": {},
     "output_type": "execute_result"
    }
   ],
   "source": [
    "clientes = df_negocio.eq(\"custome_id\").sum(1)\n",
    "clientes"
   ]
  },
  {
   "cell_type": "code",
   "execution_count": 76,
   "id": "798faba8",
   "metadata": {},
   "outputs": [
    {
     "data": {
      "text/plain": [
       "0"
      ]
     },
     "execution_count": 76,
     "metadata": {},
     "output_type": "execute_result"
    }
   ],
   "source": [
    "clientes.sum()"
   ]
  },
  {
   "cell_type": "markdown",
   "id": "2e3f678a",
   "metadata": {},
   "source": [
    "## Limpieza de Datos (Load): Crear un nuevo Data Frame que contenga los datos limpios y transformados que serán utilizados para análisis posteriores.\n",
    "### 6. Explicar cómo se carga este nuevo Data Frame y si se aplican restricciones de integridad en este paso"
   ]
  },
  {
   "cell_type": "markdown",
   "id": "a9a1d4c6",
   "metadata": {},
   "source": [
    "##### Como mencioné anteriormente, una vez realizada la limpieza y transformaciones necesarias, se guardo el archivo CSV del dataFrame al final del punto 3 del enunciado.\n",
    "#### A continuación cargaré ese archivo limpio sin  aplicar restricciones ya que pandas no aplica restricciones automáticamente. Las restricciones de integridad son reglas que suelen aplicarse en las bases de datos relacionales."
   ]
  },
  {
   "cell_type": "code",
   "execution_count": 88,
   "id": "a860ae1d",
   "metadata": {},
   "outputs": [],
   "source": [
    "df_negocio_limpio = pd.read_csv(\"negocio_resultado_final.csv\", index_col = 'invoice_no')"
   ]
  },
  {
   "cell_type": "code",
   "execution_count": 89,
   "id": "6568b3af",
   "metadata": {},
   "outputs": [
    {
     "data": {
      "text/html": [
       "<div>\n",
       "<style scoped>\n",
       "    .dataframe tbody tr th:only-of-type {\n",
       "        vertical-align: middle;\n",
       "    }\n",
       "\n",
       "    .dataframe tbody tr th {\n",
       "        vertical-align: top;\n",
       "    }\n",
       "\n",
       "    .dataframe thead th {\n",
       "        text-align: right;\n",
       "    }\n",
       "</style>\n",
       "<table border=\"1\" class=\"dataframe\">\n",
       "  <thead>\n",
       "    <tr style=\"text-align: right;\">\n",
       "      <th></th>\n",
       "      <th>customer_id</th>\n",
       "      <th>category</th>\n",
       "      <th>quantity</th>\n",
       "      <th>price</th>\n",
       "      <th>invoice_date</th>\n",
       "      <th>shopping_mall</th>\n",
       "      <th>gender</th>\n",
       "      <th>age</th>\n",
       "      <th>payment_method</th>\n",
       "    </tr>\n",
       "    <tr>\n",
       "      <th>invoice_no</th>\n",
       "      <th></th>\n",
       "      <th></th>\n",
       "      <th></th>\n",
       "      <th></th>\n",
       "      <th></th>\n",
       "      <th></th>\n",
       "      <th></th>\n",
       "      <th></th>\n",
       "      <th></th>\n",
       "    </tr>\n",
       "  </thead>\n",
       "  <tbody>\n",
       "    <tr>\n",
       "      <th>I138884</th>\n",
       "      <td>C241288</td>\n",
       "      <td>Clothing</td>\n",
       "      <td>5</td>\n",
       "      <td>1500.40</td>\n",
       "      <td>2022-08-05</td>\n",
       "      <td>Kanyon</td>\n",
       "      <td>Female</td>\n",
       "      <td>28</td>\n",
       "      <td>Credit Card</td>\n",
       "    </tr>\n",
       "    <tr>\n",
       "      <th>I317333</th>\n",
       "      <td>C111565</td>\n",
       "      <td>Shoes</td>\n",
       "      <td>3</td>\n",
       "      <td>1800.51</td>\n",
       "      <td>2021-12-12</td>\n",
       "      <td>Forum Istanbul</td>\n",
       "      <td>Male</td>\n",
       "      <td>21</td>\n",
       "      <td>Debit Card</td>\n",
       "    </tr>\n",
       "    <tr>\n",
       "      <th>I127801</th>\n",
       "      <td>C266599</td>\n",
       "      <td>Clothing</td>\n",
       "      <td>1</td>\n",
       "      <td>300.08</td>\n",
       "      <td>2021-11-09</td>\n",
       "      <td>Metrocity</td>\n",
       "      <td>Male</td>\n",
       "      <td>20</td>\n",
       "      <td>Cash</td>\n",
       "    </tr>\n",
       "    <tr>\n",
       "      <th>I173702</th>\n",
       "      <td>C988172</td>\n",
       "      <td>Shoes</td>\n",
       "      <td>5</td>\n",
       "      <td>3000.85</td>\n",
       "      <td>2021-05-16</td>\n",
       "      <td>Metropol AVM</td>\n",
       "      <td>Female</td>\n",
       "      <td>66</td>\n",
       "      <td>Credit Card</td>\n",
       "    </tr>\n",
       "    <tr>\n",
       "      <th>I337046</th>\n",
       "      <td>C189076</td>\n",
       "      <td>Books</td>\n",
       "      <td>4</td>\n",
       "      <td>60.60</td>\n",
       "      <td>2021-10-24</td>\n",
       "      <td>Kanyon</td>\n",
       "      <td>Female</td>\n",
       "      <td>53</td>\n",
       "      <td>Cash</td>\n",
       "    </tr>\n",
       "    <tr>\n",
       "      <th>...</th>\n",
       "      <td>...</td>\n",
       "      <td>...</td>\n",
       "      <td>...</td>\n",
       "      <td>...</td>\n",
       "      <td>...</td>\n",
       "      <td>...</td>\n",
       "      <td>...</td>\n",
       "      <td>...</td>\n",
       "      <td>...</td>\n",
       "    </tr>\n",
       "    <tr>\n",
       "      <th>I219422</th>\n",
       "      <td>C441542</td>\n",
       "      <td>Souvenir</td>\n",
       "      <td>5</td>\n",
       "      <td>58.65</td>\n",
       "      <td>2022-09-21</td>\n",
       "      <td>Kanyon</td>\n",
       "      <td>Female</td>\n",
       "      <td>45</td>\n",
       "      <td>Credit Card</td>\n",
       "    </tr>\n",
       "    <tr>\n",
       "      <th>I325143</th>\n",
       "      <td>C569580</td>\n",
       "      <td>Food &amp; Beverage</td>\n",
       "      <td>2</td>\n",
       "      <td>10.46</td>\n",
       "      <td>2021-09-22</td>\n",
       "      <td>Forum Istanbul</td>\n",
       "      <td>Male</td>\n",
       "      <td>27</td>\n",
       "      <td>Cash</td>\n",
       "    </tr>\n",
       "    <tr>\n",
       "      <th>I824010</th>\n",
       "      <td>C103292</td>\n",
       "      <td>Food &amp; Beverage</td>\n",
       "      <td>2</td>\n",
       "      <td>10.46</td>\n",
       "      <td>2021-03-28</td>\n",
       "      <td>Metrocity</td>\n",
       "      <td>Male</td>\n",
       "      <td>63</td>\n",
       "      <td>Debit Card</td>\n",
       "    </tr>\n",
       "    <tr>\n",
       "      <th>I702964</th>\n",
       "      <td>C800631</td>\n",
       "      <td>Technology</td>\n",
       "      <td>4</td>\n",
       "      <td>4200.00</td>\n",
       "      <td>2021-03-16</td>\n",
       "      <td>Istinye Park</td>\n",
       "      <td>Male</td>\n",
       "      <td>56</td>\n",
       "      <td>Cash</td>\n",
       "    </tr>\n",
       "    <tr>\n",
       "      <th>I232867</th>\n",
       "      <td>C273973</td>\n",
       "      <td>Souvenir</td>\n",
       "      <td>3</td>\n",
       "      <td>35.19</td>\n",
       "      <td>2022-10-15</td>\n",
       "      <td>Mall of Istanbul</td>\n",
       "      <td>Female</td>\n",
       "      <td>36</td>\n",
       "      <td>Credit Card</td>\n",
       "    </tr>\n",
       "  </tbody>\n",
       "</table>\n",
       "<p>99457 rows × 9 columns</p>\n",
       "</div>"
      ],
      "text/plain": [
       "           customer_id         category  quantity    price invoice_date  \\\n",
       "invoice_no                                                                \n",
       "I138884        C241288         Clothing         5  1500.40   2022-08-05   \n",
       "I317333        C111565            Shoes         3  1800.51   2021-12-12   \n",
       "I127801        C266599         Clothing         1   300.08   2021-11-09   \n",
       "I173702        C988172            Shoes         5  3000.85   2021-05-16   \n",
       "I337046        C189076            Books         4    60.60   2021-10-24   \n",
       "...                ...              ...       ...      ...          ...   \n",
       "I219422        C441542         Souvenir         5    58.65   2022-09-21   \n",
       "I325143        C569580  Food & Beverage         2    10.46   2021-09-22   \n",
       "I824010        C103292  Food & Beverage         2    10.46   2021-03-28   \n",
       "I702964        C800631       Technology         4  4200.00   2021-03-16   \n",
       "I232867        C273973         Souvenir         3    35.19   2022-10-15   \n",
       "\n",
       "               shopping_mall  gender  age payment_method  \n",
       "invoice_no                                                \n",
       "I138884               Kanyon  Female   28    Credit Card  \n",
       "I317333       Forum Istanbul    Male   21     Debit Card  \n",
       "I127801            Metrocity    Male   20           Cash  \n",
       "I173702         Metropol AVM  Female   66    Credit Card  \n",
       "I337046               Kanyon  Female   53           Cash  \n",
       "...                      ...     ...  ...            ...  \n",
       "I219422               Kanyon  Female   45    Credit Card  \n",
       "I325143       Forum Istanbul    Male   27           Cash  \n",
       "I824010            Metrocity    Male   63     Debit Card  \n",
       "I702964         Istinye Park    Male   56           Cash  \n",
       "I232867     Mall of Istanbul  Female   36    Credit Card  \n",
       "\n",
       "[99457 rows x 9 columns]"
      ]
     },
     "execution_count": 89,
     "metadata": {},
     "output_type": "execute_result"
    }
   ],
   "source": [
    "df_negocio_limpio"
   ]
  },
  {
   "cell_type": "markdown",
   "id": "45809001",
   "metadata": {},
   "source": [
    "##### Aquí guardo el dataFrame utilizado para la categorización de método de pago por género y edad"
   ]
  },
  {
   "cell_type": "code",
   "execution_count": 85,
   "id": "21c314a2",
   "metadata": {},
   "outputs": [],
   "source": [
    "filtro_mp.to_csv(\"filtro_metodo_de_pago.csv\")"
   ]
  },
  {
   "cell_type": "code",
   "execution_count": 86,
   "id": "5874af69",
   "metadata": {},
   "outputs": [
    {
     "data": {
      "text/html": [
       "<div>\n",
       "<style scoped>\n",
       "    .dataframe tbody tr th:only-of-type {\n",
       "        vertical-align: middle;\n",
       "    }\n",
       "\n",
       "    .dataframe tbody tr th {\n",
       "        vertical-align: top;\n",
       "    }\n",
       "\n",
       "    .dataframe thead th {\n",
       "        text-align: right;\n",
       "    }\n",
       "</style>\n",
       "<table border=\"1\" class=\"dataframe\">\n",
       "  <thead>\n",
       "    <tr style=\"text-align: right;\">\n",
       "      <th></th>\n",
       "      <th>payment_method</th>\n",
       "      <th>age</th>\n",
       "      <th>gender</th>\n",
       "      <th>age_group</th>\n",
       "    </tr>\n",
       "    <tr>\n",
       "      <th>customer_id</th>\n",
       "      <th></th>\n",
       "      <th></th>\n",
       "      <th></th>\n",
       "      <th></th>\n",
       "    </tr>\n",
       "  </thead>\n",
       "  <tbody>\n",
       "    <tr>\n",
       "      <th>C241288</th>\n",
       "      <td>Credit Card</td>\n",
       "      <td>28</td>\n",
       "      <td>Female</td>\n",
       "      <td>young_adult</td>\n",
       "    </tr>\n",
       "    <tr>\n",
       "      <th>C111565</th>\n",
       "      <td>Debit Card</td>\n",
       "      <td>21</td>\n",
       "      <td>Male</td>\n",
       "      <td>young_adult</td>\n",
       "    </tr>\n",
       "    <tr>\n",
       "      <th>C266599</th>\n",
       "      <td>Cash</td>\n",
       "      <td>20</td>\n",
       "      <td>Male</td>\n",
       "      <td>young_adult</td>\n",
       "    </tr>\n",
       "    <tr>\n",
       "      <th>C988172</th>\n",
       "      <td>Credit Card</td>\n",
       "      <td>66</td>\n",
       "      <td>Female</td>\n",
       "      <td>older_adult</td>\n",
       "    </tr>\n",
       "    <tr>\n",
       "      <th>C189076</th>\n",
       "      <td>Cash</td>\n",
       "      <td>53</td>\n",
       "      <td>Female</td>\n",
       "      <td>older_adult</td>\n",
       "    </tr>\n",
       "    <tr>\n",
       "      <th>...</th>\n",
       "      <td>...</td>\n",
       "      <td>...</td>\n",
       "      <td>...</td>\n",
       "      <td>...</td>\n",
       "    </tr>\n",
       "    <tr>\n",
       "      <th>C441542</th>\n",
       "      <td>Credit Card</td>\n",
       "      <td>45</td>\n",
       "      <td>Female</td>\n",
       "      <td>adult</td>\n",
       "    </tr>\n",
       "    <tr>\n",
       "      <th>C569580</th>\n",
       "      <td>Cash</td>\n",
       "      <td>27</td>\n",
       "      <td>Male</td>\n",
       "      <td>young_adult</td>\n",
       "    </tr>\n",
       "    <tr>\n",
       "      <th>C103292</th>\n",
       "      <td>Debit Card</td>\n",
       "      <td>63</td>\n",
       "      <td>Male</td>\n",
       "      <td>older_adult</td>\n",
       "    </tr>\n",
       "    <tr>\n",
       "      <th>C800631</th>\n",
       "      <td>Cash</td>\n",
       "      <td>56</td>\n",
       "      <td>Male</td>\n",
       "      <td>older_adult</td>\n",
       "    </tr>\n",
       "    <tr>\n",
       "      <th>C273973</th>\n",
       "      <td>Credit Card</td>\n",
       "      <td>36</td>\n",
       "      <td>Female</td>\n",
       "      <td>adult</td>\n",
       "    </tr>\n",
       "  </tbody>\n",
       "</table>\n",
       "<p>99457 rows × 4 columns</p>\n",
       "</div>"
      ],
      "text/plain": [
       "            payment_method  age  gender    age_group\n",
       "customer_id                                         \n",
       "C241288        Credit Card   28  Female  young_adult\n",
       "C111565         Debit Card   21    Male  young_adult\n",
       "C266599               Cash   20    Male  young_adult\n",
       "C988172        Credit Card   66  Female  older_adult\n",
       "C189076               Cash   53  Female  older_adult\n",
       "...                    ...  ...     ...          ...\n",
       "C441542        Credit Card   45  Female        adult\n",
       "C569580               Cash   27    Male  young_adult\n",
       "C103292         Debit Card   63    Male  older_adult\n",
       "C800631               Cash   56    Male  older_adult\n",
       "C273973        Credit Card   36  Female        adult\n",
       "\n",
       "[99457 rows x 4 columns]"
      ]
     },
     "execution_count": 86,
     "metadata": {},
     "output_type": "execute_result"
    }
   ],
   "source": [
    "filtro_mp"
   ]
  },
  {
   "cell_type": "code",
   "execution_count": null,
   "id": "254a33ea",
   "metadata": {},
   "outputs": [],
   "source": []
  }
 ],
 "metadata": {
  "kernelspec": {
   "display_name": "Python 3 (ipykernel)",
   "language": "python",
   "name": "python3"
  },
  "language_info": {
   "codemirror_mode": {
    "name": "ipython",
    "version": 3
   },
   "file_extension": ".py",
   "mimetype": "text/x-python",
   "name": "python",
   "nbconvert_exporter": "python",
   "pygments_lexer": "ipython3",
   "version": "3.11.4"
  }
 },
 "nbformat": 4,
 "nbformat_minor": 5
}
